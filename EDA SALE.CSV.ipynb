{
 "cells": [
  {
   "cell_type": "markdown",
   "id": "10a21089",
   "metadata": {
    "heading_collapsed": true
   },
   "source": [
    "# Ler e Entender os dados"
   ]
  },
  {
   "cell_type": "code",
   "execution_count": 1,
   "id": "ee537b78",
   "metadata": {
    "hidden": true
   },
   "outputs": [],
   "source": [
    "import os\n",
    "import pandas as pd\n",
    "\n",
    "import matplotlib.pyplot as plt\n",
    "import seaborn as sns\n",
    "\n",
    "from sklearn import preprocessing\n"
   ]
  },
  {
   "cell_type": "markdown",
   "id": "c39ba873",
   "metadata": {
    "hidden": true
   },
   "source": [
    "## Carregando o dataframe"
   ]
  },
  {
   "cell_type": "code",
   "execution_count": 2,
   "id": "32a4e8c5",
   "metadata": {
    "hidden": true
   },
   "outputs": [
    {
     "name": "stdout",
     "output_type": "stream",
     "text": [
      "/Users/lucashelal/Workspace/retail_case/input/comp_prices.csv\n",
      "/Users/lucashelal/Workspace/retail_case/input/sales.csv\n"
     ]
    }
   ],
   "source": [
    "base_folder = os.getcwd()\n",
    "for dirname, _, filenames in os.walk(os.path.join(base_folder, 'input')):\n",
    "    for filename in filenames:\n",
    "        print(os.path.join(dirname, filename))"
   ]
  },
  {
   "cell_type": "code",
   "execution_count": 3,
   "id": "1dae523c",
   "metadata": {
    "hidden": true
   },
   "outputs": [],
   "source": [
    "df_sales = pd.read_csv(os.path.join(base_folder,'input/sales.csv'))"
   ]
  },
  {
   "cell_type": "markdown",
   "id": "7f69417c",
   "metadata": {
    "hidden": true
   },
   "source": [
    "## Contéudo do Dataframe"
   ]
  },
  {
   "cell_type": "markdown",
   "id": "f6aa72f7",
   "metadata": {
    "hidden": true
   },
   "source": [
    "sales.csv\n",
    "\n",
    "> PROD_ID:  ID do produto. Contém 9 diferentes produtos (P1 - P9).\n",
    "\n",
    "> DATE_ORDER: Data da venda. Formato: YYYY-MM-DD\n",
    "\n",
    "> QTY_ORDER: Quantidade Vendida.\n",
    "\n",
    "> REVENUE: Pode haver variações de preço de um mesmo produto, dependendo do canal de vendas ou descontos, que são aplicados ao preço base;\n"
   ]
  },
  {
   "cell_type": "code",
   "execution_count": 4,
   "id": "c5b298ee",
   "metadata": {
    "hidden": true
   },
   "outputs": [
    {
     "data": {
      "text/html": [
       "<div>\n",
       "<style scoped>\n",
       "    .dataframe tbody tr th:only-of-type {\n",
       "        vertical-align: middle;\n",
       "    }\n",
       "\n",
       "    .dataframe tbody tr th {\n",
       "        vertical-align: top;\n",
       "    }\n",
       "\n",
       "    .dataframe thead th {\n",
       "        text-align: right;\n",
       "    }\n",
       "</style>\n",
       "<table border=\"1\" class=\"dataframe\">\n",
       "  <thead>\n",
       "    <tr style=\"text-align: right;\">\n",
       "      <th></th>\n",
       "      <th>PROD_ID</th>\n",
       "      <th>DATE_ORDER</th>\n",
       "      <th>QTY_ORDER</th>\n",
       "      <th>REVENUE</th>\n",
       "    </tr>\n",
       "  </thead>\n",
       "  <tbody>\n",
       "    <tr>\n",
       "      <th>0</th>\n",
       "      <td>P6</td>\n",
       "      <td>2015-08-02</td>\n",
       "      <td>1.0</td>\n",
       "      <td>1808.99</td>\n",
       "    </tr>\n",
       "    <tr>\n",
       "      <th>1</th>\n",
       "      <td>P6</td>\n",
       "      <td>2015-08-17</td>\n",
       "      <td>1.0</td>\n",
       "      <td>1674.00</td>\n",
       "    </tr>\n",
       "    <tr>\n",
       "      <th>2</th>\n",
       "      <td>P6</td>\n",
       "      <td>2015-08-17</td>\n",
       "      <td>1.0</td>\n",
       "      <td>1673.95</td>\n",
       "    </tr>\n",
       "    <tr>\n",
       "      <th>3</th>\n",
       "      <td>P6</td>\n",
       "      <td>2015-08-11</td>\n",
       "      <td>1.0</td>\n",
       "      <td>1674.00</td>\n",
       "    </tr>\n",
       "    <tr>\n",
       "      <th>4</th>\n",
       "      <td>P6</td>\n",
       "      <td>2015-08-17</td>\n",
       "      <td>1.0</td>\n",
       "      <td>1674.00</td>\n",
       "    </tr>\n",
       "  </tbody>\n",
       "</table>\n",
       "</div>"
      ],
      "text/plain": [
       "  PROD_ID  DATE_ORDER  QTY_ORDER  REVENUE\n",
       "0      P6  2015-08-02        1.0  1808.99\n",
       "1      P6  2015-08-17        1.0  1674.00\n",
       "2      P6  2015-08-17        1.0  1673.95\n",
       "3      P6  2015-08-11        1.0  1674.00\n",
       "4      P6  2015-08-17        1.0  1674.00"
      ]
     },
     "execution_count": 4,
     "metadata": {},
     "output_type": "execute_result"
    }
   ],
   "source": [
    "df_sales.head()"
   ]
  },
  {
   "cell_type": "code",
   "execution_count": 5,
   "id": "60d77ee4",
   "metadata": {
    "hidden": true
   },
   "outputs": [
    {
     "name": "stdout",
     "output_type": "stream",
     "text": [
      "<class 'pandas.core.frame.DataFrame'>\n",
      "RangeIndex: 351091 entries, 0 to 351090\n",
      "Data columns (total 4 columns):\n",
      " #   Column      Non-Null Count   Dtype  \n",
      "---  ------      --------------   -----  \n",
      " 0   PROD_ID     351091 non-null  object \n",
      " 1   DATE_ORDER  351091 non-null  object \n",
      " 2   QTY_ORDER   351091 non-null  float64\n",
      " 3   REVENUE     351091 non-null  float64\n",
      "dtypes: float64(2), object(2)\n",
      "memory usage: 10.7+ MB\n"
     ]
    }
   ],
   "source": [
    "df_sales.info()"
   ]
  },
  {
   "attachments": {},
   "cell_type": "markdown",
   "id": "ba59cefe",
   "metadata": {
    "hidden": true
   },
   "source": [
    "> Neste ponto já possível observar que não temos nenhuma coluna que tenha algum de seus atributos vazio."
   ]
  },
  {
   "cell_type": "markdown",
   "id": "fec420a6",
   "metadata": {
    "hidden": true
   },
   "source": [
    "## Descrição do Dataframe"
   ]
  },
  {
   "cell_type": "code",
   "execution_count": 6,
   "id": "983b1f38",
   "metadata": {
    "hidden": true
   },
   "outputs": [
    {
     "data": {
      "text/html": [
       "<div>\n",
       "<style scoped>\n",
       "    .dataframe tbody tr th:only-of-type {\n",
       "        vertical-align: middle;\n",
       "    }\n",
       "\n",
       "    .dataframe tbody tr th {\n",
       "        vertical-align: top;\n",
       "    }\n",
       "\n",
       "    .dataframe thead th {\n",
       "        text-align: right;\n",
       "    }\n",
       "</style>\n",
       "<table border=\"1\" class=\"dataframe\">\n",
       "  <thead>\n",
       "    <tr style=\"text-align: right;\">\n",
       "      <th></th>\n",
       "      <th>QTY_ORDER</th>\n",
       "      <th>REVENUE</th>\n",
       "    </tr>\n",
       "  </thead>\n",
       "  <tbody>\n",
       "    <tr>\n",
       "      <th>count</th>\n",
       "      <td>351091.000000</td>\n",
       "      <td>351091.000000</td>\n",
       "    </tr>\n",
       "    <tr>\n",
       "      <th>mean</th>\n",
       "      <td>1.078837</td>\n",
       "      <td>764.953615</td>\n",
       "    </tr>\n",
       "    <tr>\n",
       "      <th>std</th>\n",
       "      <td>1.103650</td>\n",
       "      <td>781.957331</td>\n",
       "    </tr>\n",
       "    <tr>\n",
       "      <th>min</th>\n",
       "      <td>1.000000</td>\n",
       "      <td>229.000000</td>\n",
       "    </tr>\n",
       "    <tr>\n",
       "      <th>25%</th>\n",
       "      <td>1.000000</td>\n",
       "      <td>649.000000</td>\n",
       "    </tr>\n",
       "    <tr>\n",
       "      <th>50%</th>\n",
       "      <td>1.000000</td>\n",
       "      <td>749.000000</td>\n",
       "    </tr>\n",
       "    <tr>\n",
       "      <th>75%</th>\n",
       "      <td>1.000000</td>\n",
       "      <td>799.000000</td>\n",
       "    </tr>\n",
       "    <tr>\n",
       "      <th>max</th>\n",
       "      <td>500.000000</td>\n",
       "      <td>368750.000000</td>\n",
       "    </tr>\n",
       "  </tbody>\n",
       "</table>\n",
       "</div>"
      ],
      "text/plain": [
       "           QTY_ORDER        REVENUE\n",
       "count  351091.000000  351091.000000\n",
       "mean        1.078837     764.953615\n",
       "std         1.103650     781.957331\n",
       "min         1.000000     229.000000\n",
       "25%         1.000000     649.000000\n",
       "50%         1.000000     749.000000\n",
       "75%         1.000000     799.000000\n",
       "max       500.000000  368750.000000"
      ]
     },
     "execution_count": 6,
     "metadata": {},
     "output_type": "execute_result"
    }
   ],
   "source": [
    "df_sales.describe()"
   ]
  },
  {
   "attachments": {},
   "cell_type": "markdown",
   "id": "9c5b0fbe",
   "metadata": {
    "hidden": true
   },
   "source": [
    "- Aqui conseguimos observa algo interessante:\n",
    "\n",
    "1. Já podemos concluir que pelo menos 75% desse dataset teve somente um pedido, ou seja, no máximo 25% das vendas tiveram mais de 1 produto na compra. \n",
    "\n",
    "2. O fator REVENUE, pode se observar que a maioria dos produtos tem seu valor na casa dos 700-800.\n",
    "\n",
    "3. Ainda no REVENUE, notasse que existe o mínimo e o máximos são bem distintos, o que pode ser algum ruído na base, assim fazer uma validação para eliminar esse outliers, antes de começar a fazer a exploração."
   ]
  },
  {
   "attachments": {},
   "cell_type": "markdown",
   "id": "6d154660",
   "metadata": {
    "hidden": true
   },
   "source": [
    "## Observação pessoal"
   ]
  },
  {
   "cell_type": "markdown",
   "id": "449e7010",
   "metadata": {
    "hidden": true
   },
   "source": [
    "Durante os meus anos de trabalho com desenvolvimento, analises e gerenciamento. Por mais simples que parece alguns pontos vieram em questão, decidir se vou programar em inglês? Se vou fazer os meus versionamentos de código em inglês? e Se vou modelar um banco de dados em inglês?\n",
    "\n",
    "Na computação é de forma geral acabasse sendo ruim fazer algumas traduções, me lembro quando estava no meu primeiro ano de graduação, (sim.. a um bom tempo rs). Me indicaram um livro e falaram que era ótima para eu começar, confesso que o livro era bom, mas foi uma confusão só, pois a editora XYZ, traduziu não somente o conteúdo didático, ela sem consultar provavelmente ninguém da computação, traduziu algumas sintaxes da linguagem em questão. Pode imaginar o quanto foi confuso isso? \n",
    "\n",
    "\n",
    "Então, aos longos dos anos, a conclusão é que preciso ter o profundo conhecimento da sua equipe e ainda não somente técnica, também de negócio, por isso citei o banco de dados.\n",
    "\n",
    "Hoje os projetos (pessoais ou profissionais) que inicio, no máximo o código é inglês. E o porque disso? Clareza para os envolvidos."
   ]
  },
  {
   "cell_type": "markdown",
   "id": "47b1b4f0",
   "metadata": {
    "hidden": true
   },
   "source": [
    "\n",
    "### Consideração desse assunto neste problema:\n",
    "\n",
    "Essa analise na hora que eu vi o na coluna 'REVENUE'. Traduzi mentalmente: 'RECEITA', ou é o valor final do produto ou é o lucro, Receita liquida ou bruta, pois não conheço o produto pelo fato deles estarem anonimizados.\n",
    "Segundo o dicionário Linguee, Revenue é receita ou rendimento, veja que começa a confusão e ainda se comparar com o comp_price.csv lá temos o preço dos nos produtos. \n",
    "\n",
    "Assim, visto que aqui após algumas analises REVENUE é valor do produto multiplicado pela quantidade de itens vendidos. Aqui são mais de um fator, o inglês confunde e mesmo em português o nome não é bom para coluna."
   ]
  },
  {
   "cell_type": "markdown",
   "id": "815d6678",
   "metadata": {
    "hidden": true
   },
   "source": [
    "## Insights"
   ]
  },
  {
   "cell_type": "markdown",
   "id": "be77c5a6",
   "metadata": {
    "hidden": true
   },
   "source": [
    "- Dados temporais: O primeiro fator que penso é que em uma analise sem conhecer os produtos, podemos pensar em uma possível oscilação nos preços considerando o fator tempo/data.\n",
    "- Somente para termos ideia, em 2021 estamos vivenciando um grande aumento das commodities no brasil, ex. o milho, que é base para fabricação de salgadinho, bolachas... e o dólar americano que chegou a variar ~ 15% até somente esse ano pode, esse são alguns dos fatores que podem impactar o preço de um produto. \n",
    "- Outra questão é a sazonalidade, quando falamos em varejo, logo penso datas como dia das mães, natal e ainda eventos como Black Friday."
   ]
  },
  {
   "cell_type": "markdown",
   "id": "d990a1ee",
   "metadata": {
    "heading_collapsed": true
   },
   "source": [
    "# Tratamento e Limpeza dos dados"
   ]
  },
  {
   "cell_type": "markdown",
   "id": "bdf279d6",
   "metadata": {
    "hidden": true
   },
   "source": [
    "## Adicionar a coluna REVENUE_UN - Com o preço unitário"
   ]
  },
  {
   "cell_type": "code",
   "execution_count": 7,
   "id": "50b61773",
   "metadata": {
    "hidden": true
   },
   "outputs": [],
   "source": [
    "df_sales['REVENUE_UN'] = (df_sales['REVENUE'] / df_sales['QTY_ORDER'])"
   ]
  },
  {
   "cell_type": "markdown",
   "id": "e94c84ce",
   "metadata": {
    "hidden": true
   },
   "source": [
    "## Remover possíveis outliers por produto"
   ]
  },
  {
   "cell_type": "code",
   "execution_count": 8,
   "id": "d09dcd61",
   "metadata": {
    "hidden": true
   },
   "outputs": [],
   "source": [
    "def remove_outliers_sales(df, col_id, col_outlier):\n",
    "    column_ID = df[col_id].unique()\n",
    "    for i in (column_ID):\n",
    "        df_loc_col = df.loc[df[col_id] == i][col_outlier]\n",
    "        Q1 = df_loc_col.quantile(0.05)\n",
    "        Q3 = df_loc_col.quantile(0.95)\n",
    "        IQR = Q3 - Q1\n",
    "        \n",
    "        _filter = (df_loc_col >= Q1 - 1.5*IQR) & (df_loc_col <= Q3 + 1.5*IQR)\n",
    "\n",
    "        df.loc[df[col_id] == i, [col_outlier]] = df_loc_col.loc[_filter]\n",
    "        "
   ]
  },
  {
   "cell_type": "code",
   "execution_count": 9,
   "id": "6460748c",
   "metadata": {
    "hidden": true
   },
   "outputs": [],
   "source": [
    "df = df_sales.copy()\n",
    "remove_outliers_sales(df, col_id = 'PROD_ID', col_outlier = 'REVENUE_UN')"
   ]
  },
  {
   "cell_type": "code",
   "execution_count": 11,
   "id": "16ee7377",
   "metadata": {
    "hidden": true
   },
   "outputs": [
    {
     "name": "stdout",
     "output_type": "stream",
     "text": [
      "Foram removidos 57 outliers\n"
     ]
    }
   ],
   "source": [
    "outliers = df_sales['REVENUE_UN'].count() - df['REVENUE_UN'].count()\n",
    "print('Foram removidos {} outliers'.format(outliers))"
   ]
  },
  {
   "cell_type": "markdown",
   "id": "51d6fe0e",
   "metadata": {
    "hidden": true
   },
   "source": [
    "### Removendo do dataframe as colunas que ficaram com null"
   ]
  },
  {
   "cell_type": "code",
   "execution_count": 12,
   "id": "1e8cfdf3",
   "metadata": {
    "hidden": true,
    "scrolled": true
   },
   "outputs": [
    {
     "name": "stdout",
     "output_type": "stream",
     "text": [
      "<class 'pandas.core.frame.DataFrame'>\n",
      "RangeIndex: 351034 entries, 0 to 351033\n",
      "Data columns (total 5 columns):\n",
      " #   Column      Non-Null Count   Dtype  \n",
      "---  ------      --------------   -----  \n",
      " 0   PROD_ID     351034 non-null  object \n",
      " 1   DATE_ORDER  351034 non-null  object \n",
      " 2   QTY_ORDER   351034 non-null  float64\n",
      " 3   REVENUE     351034 non-null  float64\n",
      " 4   REVENUE_UN  351034 non-null  float64\n",
      "dtypes: float64(3), object(2)\n",
      "memory usage: 13.4+ MB\n"
     ]
    }
   ],
   "source": [
    "df = df.dropna()\n",
    "df = df.reset_index(drop=True)\n",
    "df.info()"
   ]
  },
  {
   "cell_type": "markdown",
   "id": "3dcfe6c2",
   "metadata": {
    "hidden": true
   },
   "source": [
    "## Função que permite a visualização dos produtos por seus respectivos valores unitários"
   ]
  },
  {
   "cell_type": "code",
   "execution_count": 13,
   "id": "d89ab6a1",
   "metadata": {
    "hidden": true,
    "scrolled": true
   },
   "outputs": [],
   "source": [
    "def plot_boxplot(df_plt, x_plt, y_plt, order_plt):\n",
    "    plt.rcParams['figure.figsize'] = [10,8]\n",
    "    sns.boxplot(data = df_plt, x=x_plt, y=y_plt, order=order, orient=\"v\", palette=\"Set2\" ,whis=1.5,saturation=1, width=0.7)\n",
    "    # plt.title(\"\", fontsize = 14, fontweight = 'bold')\n",
    "    plt.ylabel(x_plt, fontweight = 'bold')\n",
    "    plt.xlabel(y_plt, fontweight = 'bold')"
   ]
  },
  {
   "cell_type": "markdown",
   "id": "a4e59e5c",
   "metadata": {
    "hidden": true
   },
   "source": [
    "### Visualização dos produtos por preço unitário"
   ]
  },
  {
   "cell_type": "code",
   "execution_count": 14,
   "id": "df849be2",
   "metadata": {
    "hidden": true
   },
   "outputs": [
    {
     "data": {
      "image/png": "[encoded data removed]",
      "text/plain": [
       "<Figure size 720x576 with 1 Axes>"
      ]
     },
     "metadata": {
      "needs_background": "light"
     },
     "output_type": "display_data"
    }
   ],
   "source": [
    "x='PROD_ID' \n",
    "y='REVENUE_UN'\n",
    "order=['P1', 'P2', 'P3', 'P4', 'P5', 'P6', 'P7', 'P8', 'P9']\n",
    "plot_boxplot(df, x, y, order)"
   ]
  },
  {
   "cell_type": "markdown",
   "id": "4e1ab8ae",
   "metadata": {
    "heading_collapsed": true
   },
   "source": [
    "# Preparação dos dados"
   ]
  },
  {
   "cell_type": "markdown",
   "id": "a1871117",
   "metadata": {
    "hidden": true
   },
   "source": [
    "## NORMALIZAR DO DADOS"
   ]
  },
  {
   "cell_type": "code",
   "execution_count": 15,
   "id": "29d193bf",
   "metadata": {
    "hidden": true
   },
   "outputs": [],
   "source": [
    "def normalize_col(df, col_name):\n",
    "    \n",
    "    norm = df[[col_name]].values.astype(float)\n",
    "    min_max_scaler = preprocessing.MinMaxScaler()\n",
    "    \n",
    "    x_scaled = min_max_scaler.fit_transform(norm)\n",
    "    new_col_name = col_name + '_NORMALIZED'\n",
    "    \n",
    "    df_normalized = pd.DataFrame(x_scaled)\n",
    "    df[[new_col_name]] = df_normalized\n"
   ]
  },
  {
   "cell_type": "code",
   "execution_count": 16,
   "id": "a95c708d",
   "metadata": {
    "hidden": true
   },
   "outputs": [],
   "source": [
    "# col_name = 'REVENUE_UN'\n",
    "# normalize_col(df, col_name)"
   ]
  },
  {
   "cell_type": "code",
   "execution_count": 17,
   "id": "6145f89f",
   "metadata": {
    "hidden": true
   },
   "outputs": [
    {
     "data": {
      "text/html": [
       "<div>\n",
       "<style scoped>\n",
       "    .dataframe tbody tr th:only-of-type {\n",
       "        vertical-align: middle;\n",
       "    }\n",
       "\n",
       "    .dataframe tbody tr th {\n",
       "        vertical-align: top;\n",
       "    }\n",
       "\n",
       "    .dataframe thead th {\n",
       "        text-align: right;\n",
       "    }\n",
       "</style>\n",
       "<table border=\"1\" class=\"dataframe\">\n",
       "  <thead>\n",
       "    <tr style=\"text-align: right;\">\n",
       "      <th></th>\n",
       "      <th>PROD_ID</th>\n",
       "      <th>DATE_ORDER</th>\n",
       "      <th>QTY_ORDER</th>\n",
       "      <th>REVENUE</th>\n",
       "      <th>REVENUE_UN</th>\n",
       "    </tr>\n",
       "  </thead>\n",
       "  <tbody>\n",
       "    <tr>\n",
       "      <th>0</th>\n",
       "      <td>P6</td>\n",
       "      <td>2015-08-02</td>\n",
       "      <td>1.0</td>\n",
       "      <td>1808.99</td>\n",
       "      <td>1808.99</td>\n",
       "    </tr>\n",
       "    <tr>\n",
       "      <th>1</th>\n",
       "      <td>P6</td>\n",
       "      <td>2015-08-17</td>\n",
       "      <td>1.0</td>\n",
       "      <td>1674.00</td>\n",
       "      <td>1674.00</td>\n",
       "    </tr>\n",
       "    <tr>\n",
       "      <th>2</th>\n",
       "      <td>P6</td>\n",
       "      <td>2015-08-17</td>\n",
       "      <td>1.0</td>\n",
       "      <td>1673.95</td>\n",
       "      <td>1673.95</td>\n",
       "    </tr>\n",
       "    <tr>\n",
       "      <th>3</th>\n",
       "      <td>P6</td>\n",
       "      <td>2015-08-11</td>\n",
       "      <td>1.0</td>\n",
       "      <td>1674.00</td>\n",
       "      <td>1674.00</td>\n",
       "    </tr>\n",
       "    <tr>\n",
       "      <th>4</th>\n",
       "      <td>P6</td>\n",
       "      <td>2015-08-17</td>\n",
       "      <td>1.0</td>\n",
       "      <td>1674.00</td>\n",
       "      <td>1674.00</td>\n",
       "    </tr>\n",
       "  </tbody>\n",
       "</table>\n",
       "</div>"
      ],
      "text/plain": [
       "  PROD_ID  DATE_ORDER  QTY_ORDER  REVENUE  REVENUE_UN\n",
       "0      P6  2015-08-02        1.0  1808.99     1808.99\n",
       "1      P6  2015-08-17        1.0  1674.00     1674.00\n",
       "2      P6  2015-08-17        1.0  1673.95     1673.95\n",
       "3      P6  2015-08-11        1.0  1674.00     1674.00\n",
       "4      P6  2015-08-17        1.0  1674.00     1674.00"
      ]
     },
     "execution_count": 17,
     "metadata": {},
     "output_type": "execute_result"
    }
   ],
   "source": [
    "df.head()"
   ]
  },
  {
   "cell_type": "markdown",
   "id": "069bfc26",
   "metadata": {
    "hidden": true
   },
   "source": [
    "## Tranformando Col  data type"
   ]
  },
  {
   "cell_type": "markdown",
   "id": "e0b1ac69",
   "metadata": {
    "hidden": true
   },
   "source": [
    "### Adicionando colunas mês e dia (MONTH / DAY)\n"
   ]
  },
  {
   "cell_type": "code",
   "execution_count": 18,
   "id": "8a528b2d",
   "metadata": {
    "hidden": true
   },
   "outputs": [],
   "source": [
    "df['DATE_ORDER'] =  pd.to_datetime(df['DATE_ORDER'], format='%Y-%m-%d')\n",
    "\n",
    "df['MONTH'] = df['DATE_ORDER'].dt.month\n",
    "df['DAY'] = df['DATE_ORDER'].dt.weekday"
   ]
  },
  {
   "cell_type": "code",
   "execution_count": 19,
   "id": "9332b585",
   "metadata": {
    "hidden": true
   },
   "outputs": [
    {
     "data": {
      "text/plain": [
       "PROD_ID               object\n",
       "DATE_ORDER    datetime64[ns]\n",
       "QTY_ORDER            float64\n",
       "REVENUE              float64\n",
       "REVENUE_UN           float64\n",
       "MONTH                  int64\n",
       "DAY                    int64\n",
       "dtype: object"
      ]
     },
     "execution_count": 19,
     "metadata": {},
     "output_type": "execute_result"
    }
   ],
   "source": [
    "df.dtypes"
   ]
  },
  {
   "cell_type": "code",
   "execution_count": 20,
   "id": "5b9c6455",
   "metadata": {
    "hidden": true
   },
   "outputs": [
    {
     "data": {
      "text/html": [
       "<div>\n",
       "<style scoped>\n",
       "    .dataframe tbody tr th:only-of-type {\n",
       "        vertical-align: middle;\n",
       "    }\n",
       "\n",
       "    .dataframe tbody tr th {\n",
       "        vertical-align: top;\n",
       "    }\n",
       "\n",
       "    .dataframe thead th {\n",
       "        text-align: right;\n",
       "    }\n",
       "</style>\n",
       "<table border=\"1\" class=\"dataframe\">\n",
       "  <thead>\n",
       "    <tr style=\"text-align: right;\">\n",
       "      <th></th>\n",
       "      <th>PROD_ID</th>\n",
       "      <th>DATE_ORDER</th>\n",
       "      <th>QTY_ORDER</th>\n",
       "      <th>REVENUE</th>\n",
       "      <th>REVENUE_UN</th>\n",
       "      <th>MONTH</th>\n",
       "      <th>DAY</th>\n",
       "    </tr>\n",
       "  </thead>\n",
       "  <tbody>\n",
       "    <tr>\n",
       "      <th>0</th>\n",
       "      <td>P6</td>\n",
       "      <td>2015-08-02</td>\n",
       "      <td>1.0</td>\n",
       "      <td>1808.99</td>\n",
       "      <td>1808.99</td>\n",
       "      <td>8</td>\n",
       "      <td>6</td>\n",
       "    </tr>\n",
       "    <tr>\n",
       "      <th>1</th>\n",
       "      <td>P6</td>\n",
       "      <td>2015-08-17</td>\n",
       "      <td>1.0</td>\n",
       "      <td>1674.00</td>\n",
       "      <td>1674.00</td>\n",
       "      <td>8</td>\n",
       "      <td>0</td>\n",
       "    </tr>\n",
       "    <tr>\n",
       "      <th>2</th>\n",
       "      <td>P6</td>\n",
       "      <td>2015-08-17</td>\n",
       "      <td>1.0</td>\n",
       "      <td>1673.95</td>\n",
       "      <td>1673.95</td>\n",
       "      <td>8</td>\n",
       "      <td>0</td>\n",
       "    </tr>\n",
       "    <tr>\n",
       "      <th>3</th>\n",
       "      <td>P6</td>\n",
       "      <td>2015-08-11</td>\n",
       "      <td>1.0</td>\n",
       "      <td>1674.00</td>\n",
       "      <td>1674.00</td>\n",
       "      <td>8</td>\n",
       "      <td>1</td>\n",
       "    </tr>\n",
       "    <tr>\n",
       "      <th>4</th>\n",
       "      <td>P6</td>\n",
       "      <td>2015-08-17</td>\n",
       "      <td>1.0</td>\n",
       "      <td>1674.00</td>\n",
       "      <td>1674.00</td>\n",
       "      <td>8</td>\n",
       "      <td>0</td>\n",
       "    </tr>\n",
       "  </tbody>\n",
       "</table>\n",
       "</div>"
      ],
      "text/plain": [
       "  PROD_ID DATE_ORDER  QTY_ORDER  REVENUE  REVENUE_UN  MONTH  DAY\n",
       "0      P6 2015-08-02        1.0  1808.99     1808.99      8    6\n",
       "1      P6 2015-08-17        1.0  1674.00     1674.00      8    0\n",
       "2      P6 2015-08-17        1.0  1673.95     1673.95      8    0\n",
       "3      P6 2015-08-11        1.0  1674.00     1674.00      8    1\n",
       "4      P6 2015-08-17        1.0  1674.00     1674.00      8    0"
      ]
     },
     "execution_count": 20,
     "metadata": {},
     "output_type": "execute_result"
    }
   ],
   "source": [
    "df.head()"
   ]
  },
  {
   "cell_type": "markdown",
   "id": "7b3a47c6",
   "metadata": {
    "hidden": true
   },
   "source": [
    "### Mapeamento dos valores das datas"
   ]
  },
  {
   "cell_type": "code",
   "execution_count": 21,
   "id": "2b626f24",
   "metadata": {
    "hidden": true
   },
   "outputs": [],
   "source": [
    "# Months = {1:'Jan',2:'Feb',3:'Mar', 4:'Apr', 5:'Mai', 6:'Jun', 7:'Jul', 8:'Aug', 9:'Sep', 10:'Out'}\n",
    "# Weekday = {0:\"Seg\", 1:\"Ter\", 2:\"Qua\", 3:\"Qui\", 4:\"Sex\", 5:\"Sab\", 6:\"Dom\"}\n",
    "\n",
    "# df['MONTH'].replace(Months, inplace=True) \n",
    "# df['DAY'].replace(Weekday, inplace=True)\n"
   ]
  },
  {
   "cell_type": "markdown",
   "id": "e78d062d",
   "metadata": {
    "heading_collapsed": true
   },
   "source": [
    "# Análise dos dados"
   ]
  },
  {
   "cell_type": "markdown",
   "id": "bee4c138",
   "metadata": {
    "hidden": true
   },
   "source": [
    "O objetivo aqui é responder:\n",
    "\n",
    "\n",
    "1. Qual o produto mais vendido?\n",
    "\n",
    "2. Qual o preço médio deles?\n",
    "\n",
    "3. Qual a quantidade de itens pedidos?\n",
    "\n",
    "4. Qual dias da semana tem maior volume de vendas?\n",
    "\n",
    "5. Qual mês tem maior volume de vendas?\n",
    "\n"
   ]
  },
  {
   "cell_type": "markdown",
   "id": "fd35dbb9",
   "metadata": {
    "hidden": true
   },
   "source": [
    "## Qual o produto mais vendido?"
   ]
  },
  {
   "cell_type": "code",
   "execution_count": 22,
   "id": "62d0f1a1",
   "metadata": {
    "hidden": true
   },
   "outputs": [
    {
     "data": {
      "image/png": "[encoded data removed]",
      "text/plain": [
       "<Figure size 720x576 with 1 Axes>"
      ]
     },
     "metadata": {
      "needs_background": "light"
     },
     "output_type": "display_data"
    }
   ],
   "source": [
    "ax = (sns.countplot(x = 'PROD_ID',\n",
    "              data = df,\n",
    "              order = df['PROD_ID'].value_counts(normalize=True).index[::1]))\n",
    "\n",
    "\n",
    "for p in ax.patches:\n",
    "    estimator = p.get_height() / len(df) * 100.0\n",
    "    height = p.get_height()\n",
    "    ax.text(p.get_x(), height+ 3, '{:0.2f} %'.format(estimator))"
   ]
  },
  {
   "cell_type": "markdown",
   "id": "92fc295c",
   "metadata": {
    "hidden": true
   },
   "source": [
    "## Qual o preço médio deles?"
   ]
  },
  {
   "cell_type": "code",
   "execution_count": 23,
   "id": "9201446e",
   "metadata": {
    "hidden": true,
    "scrolled": true
   },
   "outputs": [
    {
     "data": {
      "text/plain": [
       "{'P1': 1442.11,\n",
       " 'P2': 681.47,\n",
       " 'P3': 1260.64,\n",
       " 'P4': 489.88,\n",
       " 'P5': 756.06,\n",
       " 'P6': 1673.87,\n",
       " 'P7': 762.87,\n",
       " 'P8': 408.66,\n",
       " 'P9': 406.75}"
      ]
     },
     "execution_count": 23,
     "metadata": {},
     "output_type": "execute_result"
    }
   ],
   "source": [
    "def avg_prod_ID(df, col_id, col_price):\n",
    "    global prod_avg\n",
    "    column_ID = df[col_id].unique()\n",
    "    column_ID.sort()\n",
    "    for i in (column_ID):\n",
    "        avg = df.loc[df[col_id] == i][col_price].mean()\n",
    "        prod_avg[i] = round(avg, 2)\n",
    "    return prod_avg\n",
    "# df_sales.loc[df_sales['PROD_ID'] == 'P7']['REVENUE_UN'].mean()\n",
    "\n",
    "prod_avg = {}\n",
    "avg_prod_ID(df, 'PROD_ID', 'REVENUE_UN')"
   ]
  },
  {
   "cell_type": "markdown",
   "id": "ea37f308",
   "metadata": {
    "hidden": true
   },
   "source": [
    "-  P6 tem o maior PM, porém tem apenas 1% do volume de vendas\n",
    "\n",
    "-  P9 tem o menor PM e tem 5% do volume de vendas\n",
    "\n",
    "-  P7 que te o maior volume de vendas, tem PM de $762.87"
   ]
  },
  {
   "cell_type": "markdown",
   "id": "5f28be3c",
   "metadata": {
    "hidden": true
   },
   "source": [
    "## Qual a quantidade de itens pedidos?"
   ]
  },
  {
   "cell_type": "code",
   "execution_count": 24,
   "id": "41d850ba",
   "metadata": {
    "hidden": true
   },
   "outputs": [
    {
     "data": {
      "text/plain": [
       "{1.0: {'Total: 334968 ------ 95.42 %'},\n",
       " 2.0: {'Total: 12293 ------ 3.5 %'},\n",
       " 3.0: {'Total: 1475 ------ 0.42 %'},\n",
       " 4.0: {'Total: 497 ------ 0.14 %'},\n",
       " 5.0: {'Total: 1295 ------ 0.37 %'},\n",
       " 6.0: {'Total: 314 ------ 0.09 %'},\n",
       " 7.0: {'Total: 8 ------ 0.0 %'},\n",
       " 8.0: {'Total: 4 ------ 0.0 %'},\n",
       " 9.0: {'Total: 3 ------ 0.0 %'},\n",
       " 10.0: {'Total: 84 ------ 0.02 %'},\n",
       " 11.0: {'Total: 3 ------ 0.0 %'},\n",
       " 12.0: {'Total: 8 ------ 0.0 %'},\n",
       " 13.0: {'Total: 1 ------ 0.0 %'},\n",
       " 14.0: {'Total: 1 ------ 0.0 %'},\n",
       " 15.0: {'Total: 9 ------ 0.0 %'},\n",
       " 16.0: {'Total: 3 ------ 0.0 %'},\n",
       " 17.0: {'Total: 1 ------ 0.0 %'},\n",
       " 18.0: {'Total: 1 ------ 0.0 %'},\n",
       " 20.0: {'Total: 13 ------ 0.0 %'},\n",
       " 23.0: {'Total: 1 ------ 0.0 %'},\n",
       " 24.0: {'Total: 2 ------ 0.0 %'},\n",
       " 25.0: {'Total: 3 ------ 0.0 %'},\n",
       " 27.0: {'Total: 1 ------ 0.0 %'},\n",
       " 28.0: {'Total: 2 ------ 0.0 %'},\n",
       " 29.0: {'Total: 1 ------ 0.0 %'},\n",
       " 30.0: {'Total: 7 ------ 0.0 %'},\n",
       " 31.0: {'Total: 1 ------ 0.0 %'},\n",
       " 35.0: {'Total: 2 ------ 0.0 %'},\n",
       " 37.0: {'Total: 1 ------ 0.0 %'},\n",
       " 39.0: {'Total: 2 ------ 0.0 %'},\n",
       " 40.0: {'Total: 7 ------ 0.0 %'},\n",
       " 41.0: {'Total: 1 ------ 0.0 %'},\n",
       " 43.0: {'Total: 1 ------ 0.0 %'},\n",
       " 50.0: {'Total: 15 ------ 0.0 %'},\n",
       " 71.0: {'Total: 1 ------ 0.0 %'},\n",
       " 85.0: {'Total: 1 ------ 0.0 %'},\n",
       " 100.0: {'Total: 2 ------ 0.0 %'},\n",
       " 109.0: {'Total: 1 ------ 0.0 %'},\n",
       " 500.0: {'Total: 1 ------ 0.0 %'}}"
      ]
     },
     "execution_count": 24,
     "metadata": {},
     "output_type": "execute_result"
    }
   ],
   "source": [
    "column_ID = df['QTY_ORDER'].unique()\n",
    "column_ID.sort()\n",
    "len(column_ID)\n",
    "\n",
    "qty_count = {}\n",
    "for i in (column_ID):\n",
    "    count = df.loc[df['QTY_ORDER'] == i]['QTY_ORDER'].count()\n",
    "#     print(count)\n",
    "    perc = round(count, 4)/len(df)*100\n",
    "    qty_count[i] = {('Total: ' + str(round(count, 2))) + ' ------ ' + str(round(perc, 2)) + ' %'}\n",
    "#     qty_count[i] = round(count, 2)\n",
    "qty_count"
   ]
  },
  {
   "cell_type": "markdown",
   "id": "3dc6bd5e",
   "metadata": {
    "hidden": true
   },
   "source": [
    "-  95.42% das vendas foi apenas com um item.\n",
    "-  3.5% das vendas foram com dois itens.\n",
    "\n",
    "- Tiveram duas vendas com 100 itens na compra.  E a maior venda foi com 500 itens."
   ]
  },
  {
   "cell_type": "code",
   "execution_count": null,
   "id": "f9aad63d",
   "metadata": {
    "hidden": true
   },
   "outputs": [],
   "source": []
  },
  {
   "cell_type": "markdown",
   "id": "1b5decf5",
   "metadata": {
    "hidden": true
   },
   "source": [
    "## Qual dias da semana tem maior volume de vendas"
   ]
  },
  {
   "cell_type": "markdown",
   "id": "a4ca7b95",
   "metadata": {
    "hidden": true
   },
   "source": [
    "### Mapeamento dos valores das datas\n"
   ]
  },
  {
   "cell_type": "code",
   "execution_count": 25,
   "id": "9e12f64b",
   "metadata": {
    "hidden": true
   },
   "outputs": [],
   "source": [
    "Months = {1:'Jan',2:'Feb',3:'Mar', 4:'Apr', 5:'Mai', 6:'Jun', 7:'Jul', 8:'Aug', 9:'Sep', 10:'Out'}\n",
    "Weekday = {0:\"Seg\", 1:\"Ter\", 2:\"Qua\", 3:\"Qui\", 4:\"Sex\", 5:\"Sab\", 6:\"Dom\"}\n",
    "\n",
    "df['MONTH'].replace(Months, inplace=True) \n",
    "df['DAY'].replace(Weekday, inplace=True)"
   ]
  },
  {
   "cell_type": "code",
   "execution_count": 26,
   "id": "445003fb",
   "metadata": {
    "hidden": true
   },
   "outputs": [
    {
     "data": {
      "image/png": "[encoded data removed]",
      "text/plain": [
       "<Figure size 720x576 with 1 Axes>"
      ]
     },
     "metadata": {
      "needs_background": "light"
     },
     "output_type": "display_data"
    }
   ],
   "source": [
    "ax = (sns.countplot(x = 'DAY',\n",
    "              data = df,\n",
    "              order = df['DAY'].value_counts().index[::1]))\n",
    "\n",
    "for p in ax.patches:\n",
    "    height = p.get_height()\n",
    "    ax.text(p.get_x(), height+ 3, 'n=%.0f'%(height))"
   ]
  },
  {
   "cell_type": "markdown",
   "id": "58541cb3",
   "metadata": {
    "hidden": true
   },
   "source": [
    "### Podemos verificar se esse padrão de dias se repete para cada produto também."
   ]
  },
  {
   "cell_type": "code",
   "execution_count": 27,
   "id": "d6180ef8",
   "metadata": {
    "hidden": true
   },
   "outputs": [
    {
     "name": "stdout",
     "output_type": "stream",
     "text": [
      "Volume de vendas dias da semana para o:  P1\n"
     ]
    },
    {
     "data": {
      "image/png": "[encoded data removed]",
      "text/plain": [
       "<Figure size 720x576 with 1 Axes>"
      ]
     },
     "metadata": {
      "needs_background": "light"
     },
     "output_type": "display_data"
    },
    {
     "name": "stdout",
     "output_type": "stream",
     "text": [
      "Volume de vendas dias da semana para o:  P2\n"
     ]
    },
    {
     "data": {
      "image/png": "[encoded data removed]",
      "text/plain": [
       "<Figure size 720x576 with 1 Axes>"
      ]
     },
     "metadata": {
      "needs_background": "light"
     },
     "output_type": "display_data"
    },
    {
     "name": "stdout",
     "output_type": "stream",
     "text": [
      "Volume de vendas dias da semana para o:  P3\n"
     ]
    },
    {
     "data": {
      "image/png": "[encoded data removed]",
      "text/plain": [
       "<Figure size 720x576 with 1 Axes>"
      ]
     },
     "metadata": {
      "needs_background": "light"
     },
     "output_type": "display_data"
    },
    {
     "name": "stdout",
     "output_type": "stream",
     "text": [
      "Volume de vendas dias da semana para o:  P4\n"
     ]
    },
    {
     "data": {
      "image/png": "[encoded data removed]",
      "text/plain": [
       "<Figure size 720x576 with 1 Axes>"
      ]
     },
     "metadata": {
      "needs_background": "light"
     },
     "output_type": "display_data"
    },
    {
     "name": "stdout",
     "output_type": "stream",
     "text": [
      "Volume de vendas dias da semana para o:  P5\n"
     ]
    },
    {
     "data": {
      "image/png": "[encoded data removed]",
      "text/plain": [
       "<Figure size 720x576 with 1 Axes>"
      ]
     },
     "metadata": {
      "needs_background": "light"
     },
     "output_type": "display_data"
    },
    {
     "name": "stdout",
     "output_type": "stream",
     "text": [
      "Volume de vendas dias da semana para o:  P6\n"
     ]
    },
    {
     "data": {
      "image/png": "[encoded data removed]",
      "text/plain": [
       "<Figure size 720x576 with 1 Axes>"
      ]
     },
     "metadata": {
      "needs_background": "light"
     },
     "output_type": "display_data"
    },
    {
     "name": "stdout",
     "output_type": "stream",
     "text": [
      "Volume de vendas dias da semana para o:  P7\n"
     ]
    },
    {
     "data": {
      "image/png": "[encoded data removed]",
      "text/plain": [
       "<Figure size 720x576 with 1 Axes>"
      ]
     },
     "metadata": {
      "needs_background": "light"
     },
     "output_type": "display_data"
    },
    {
     "name": "stdout",
     "output_type": "stream",
     "text": [
      "Volume de vendas dias da semana para o:  P8\n"
     ]
    },
    {
     "data": {
      "image/png": "[encoded data removed]",
      "text/plain": [
       "<Figure size 720x576 with 1 Axes>"
      ]
     },
     "metadata": {
      "needs_background": "light"
     },
     "output_type": "display_data"
    },
    {
     "name": "stdout",
     "output_type": "stream",
     "text": [
      "Volume de vendas dias da semana para o:  P9\n"
     ]
    },
    {
     "data": {
      "image/png": "[encoded data removed]",
      "text/plain": [
       "<Figure size 720x576 with 1 Axes>"
      ]
     },
     "metadata": {
      "needs_background": "light"
     },
     "output_type": "display_data"
    }
   ],
   "source": [
    "column_ID = df['PROD_ID'].unique()\n",
    "column_ID.sort()\n",
    "len(column_ID)\n",
    "\n",
    "for i in (column_ID):\n",
    "    print('Volume de vendas dias da semana para o: ', i)\n",
    "    ax = (sns.countplot(x = 'DAY',\n",
    "                  data = df.loc[df['PROD_ID'] == i],\n",
    "                  order = df['DAY'].value_counts().index[::1]))\n",
    "\n",
    "    for p in ax.patches:\n",
    "        height = p.get_height()\n",
    "        ax.text(p.get_x(), height+ 3, 'n=%.0f'%(height))\n",
    "    plt.show()\n"
   ]
  },
  {
   "cell_type": "markdown",
   "id": "17a25dba",
   "metadata": {
    "hidden": true
   },
   "source": [
    "- Quarta feira é o dia da semana que mais tem pedidos e domingo o menor."
   ]
  },
  {
   "cell_type": "code",
   "execution_count": null,
   "id": "26d49eb4",
   "metadata": {
    "hidden": true
   },
   "outputs": [],
   "source": []
  },
  {
   "cell_type": "markdown",
   "id": "31db7f9a",
   "metadata": {
    "hidden": true
   },
   "source": [
    "## Qual mês tem maior volume de vendas?"
   ]
  },
  {
   "cell_type": "code",
   "execution_count": 28,
   "id": "325f50b1",
   "metadata": {
    "hidden": true
   },
   "outputs": [
    {
     "data": {
      "image/png": "[encoded data removed]",
      "text/plain": [
       "<Figure size 720x576 with 1 Axes>"
      ]
     },
     "metadata": {
      "needs_background": "light"
     },
     "output_type": "display_data"
    }
   ],
   "source": [
    "ax = (sns.countplot(x = 'MONTH',\n",
    "              data = df,\n",
    "              order = df['MONTH'].value_counts(normalize=True).index[::1]))\n",
    "\n",
    "\n",
    "for p in ax.patches:\n",
    "    estimator = p.get_height() / len(df) * 100.0\n",
    "    height = p.get_height()\n",
    "    ax.text(p.get_x(), height+ 3, '{:0.2f} %'.format(estimator))"
   ]
  },
  {
   "cell_type": "markdown",
   "id": "ec136622",
   "metadata": {
    "hidden": true
   },
   "source": [
    "- O mês de outubro não pode ser considerado como o menor de vendas, pois a nossa base de dados possui apenas até o dia 14 de outubro."
   ]
  },
  {
   "cell_type": "code",
   "execution_count": null,
   "id": "1b09d1bd",
   "metadata": {
    "hidden": true
   },
   "outputs": [],
   "source": []
  }
 ],
 "metadata": {
  "kernelspec": {
   "display_name": "Python 3",
   "language": "python",
   "name": "python3"
  },
  "language_info": {
   "codemirror_mode": {
    "name": "ipython",
    "version": 3
   },
   "file_extension": ".py",
   "mimetype": "text/x-python",
   "name": "python",
   "nbconvert_exporter": "python",
   "pygments_lexer": "ipython3",
   "version": "3.8.8"
  },
  "toc": {
   "base_numbering": 1,
   "nav_menu": {},
   "number_sections": true,
   "sideBar": true,
   "skip_h1_title": false,
   "title_cell": "Table of Contents",
   "title_sidebar": "Contents",
   "toc_cell": false,
   "toc_position": {
    "height": "calc(100% - 180px)",
    "left": "10px",
    "top": "150px",
    "width": "349.091px"
   },
   "toc_section_display": true,
   "toc_window_display": true
  },
  "varInspector": {
   "cols": {
    "lenName": 16,
    "lenType": 16,
    "lenVar": 40
   },
   "kernels_config": {
    "python": {
     "delete_cmd_postfix": "",
     "delete_cmd_prefix": "del ",
     "library": "var_list.py",
     "varRefreshCmd": "print(var_dic_list())"
    },
    "r": {
     "delete_cmd_postfix": ") ",
     "delete_cmd_prefix": "rm(",
     "library": "var_list.r",
     "varRefreshCmd": "cat(var_dic_list()) "
    }
   },
   "types_to_exclude": [
    "module",
    "function",
    "builtin_function_or_method",
    "instance",
    "_Feature"
   ],
   "window_display": false
  }
 },
 "nbformat": 4,
 "nbformat_minor": 5
}
