{
 "cells": [
  {
   "cell_type": "markdown",
   "id": "e6d64e8b",
   "metadata": {},
   "source": [
    "# Ler e Entender os dados"
   ]
  },
  {
   "cell_type": "code",
   "execution_count": 1,
   "id": "6b3ad7d8",
   "metadata": {},
   "outputs": [],
   "source": [
    "import os\n",
    "import pandas as pd\n",
    "\n",
    "import matplotlib.pyplot as plt\n",
    "import seaborn as sns\n",
    "\n",
    "from sklearn import preprocessing\n",
    "pd.options.mode.chained_assignment = None\n"
   ]
  },
  {
   "cell_type": "markdown",
   "id": "a56434ef",
   "metadata": {},
   "source": [
    "## Carregando o dataframe"
   ]
  },
  {
   "cell_type": "code",
   "execution_count": 2,
   "id": "207e0221",
   "metadata": {},
   "outputs": [
    {
     "name": "stdout",
     "output_type": "stream",
     "text": [
      "/Users/lucashelal/Workspace/retail_case/input/comp_prices.csv\n",
      "/Users/lucashelal/Workspace/retail_case/input/sales.csv\n"
     ]
    }
   ],
   "source": [
    "base_folder = os.getcwd()\n",
    "for dirname, _, filenames in os.walk(os.path.join(base_folder, 'input')):\n",
    "    for filename in filenames:\n",
    "        print(os.path.join(dirname, filename))"
   ]
  },
  {
   "cell_type": "code",
   "execution_count": 3,
   "id": "4c68d8c7",
   "metadata": {},
   "outputs": [],
   "source": [
    "df_comp_price = pd.read_csv(os.path.join(base_folder,'input/comp_prices.csv'))"
   ]
  },
  {
   "cell_type": "markdown",
   "id": "d6b7c465",
   "metadata": {},
   "source": [
    "## Contéudo do Dataframe"
   ]
  },
  {
   "cell_type": "markdown",
   "id": "2ff3d256",
   "metadata": {},
   "source": [
    "comp_prices.csv\n",
    "\n",
    "> PROD_ID:  ID do produto. Contém 9 diferentes produtos (P1 - P9).\n",
    "\n",
    "> DATE_EXTRACTION: Data e Hora da extração dos dados dos concorrentes. Formato: YYYY-MM-DD HH:MM:SS\n",
    "\n",
    "> COMPETITOR: ID dos concorrentes. Contém6 diferentes produtos (C1 - C6).\n",
    "\n",
    "> COMPETITOR_PRICE: Preços dos Concorrentes por produto, no qual pode depender do meio de pagamento (PAY_TYPE).\n",
    "\n",
    "> PAY_TYPE:  Meio de Pagamento (1- Pagamento diferido, 2- Pagamento imediato)"
   ]
  },
  {
   "cell_type": "code",
   "execution_count": 4,
   "id": "c382b005",
   "metadata": {},
   "outputs": [
    {
     "data": {
      "text/html": [
       "<div>\n",
       "<style scoped>\n",
       "    .dataframe tbody tr th:only-of-type {\n",
       "        vertical-align: middle;\n",
       "    }\n",
       "\n",
       "    .dataframe tbody tr th {\n",
       "        vertical-align: top;\n",
       "    }\n",
       "\n",
       "    .dataframe thead th {\n",
       "        text-align: right;\n",
       "    }\n",
       "</style>\n",
       "<table border=\"1\" class=\"dataframe\">\n",
       "  <thead>\n",
       "    <tr style=\"text-align: right;\">\n",
       "      <th></th>\n",
       "      <th>PROD_ID</th>\n",
       "      <th>DATE_EXTRACTION</th>\n",
       "      <th>COMPETITOR</th>\n",
       "      <th>COMPETITOR_PRICE</th>\n",
       "      <th>PAY_TYPE</th>\n",
       "    </tr>\n",
       "  </thead>\n",
       "  <tbody>\n",
       "    <tr>\n",
       "      <th>0</th>\n",
       "      <td>P6</td>\n",
       "      <td>2015-01-30 08:11:38</td>\n",
       "      <td>C3</td>\n",
       "      <td>1898.00</td>\n",
       "      <td>1</td>\n",
       "    </tr>\n",
       "    <tr>\n",
       "      <th>1</th>\n",
       "      <td>P6</td>\n",
       "      <td>2015-01-30 08:11:38</td>\n",
       "      <td>C1</td>\n",
       "      <td>1898.00</td>\n",
       "      <td>1</td>\n",
       "    </tr>\n",
       "    <tr>\n",
       "      <th>2</th>\n",
       "      <td>P6</td>\n",
       "      <td>2015-01-30 08:11:38</td>\n",
       "      <td>C6</td>\n",
       "      <td>1999.90</td>\n",
       "      <td>1</td>\n",
       "    </tr>\n",
       "    <tr>\n",
       "      <th>3</th>\n",
       "      <td>P6</td>\n",
       "      <td>2015-01-31 20:10:14</td>\n",
       "      <td>C2</td>\n",
       "      <td>1894.88</td>\n",
       "      <td>2</td>\n",
       "    </tr>\n",
       "    <tr>\n",
       "      <th>4</th>\n",
       "      <td>P6</td>\n",
       "      <td>2015-01-31 20:10:14</td>\n",
       "      <td>C3</td>\n",
       "      <td>1894.88</td>\n",
       "      <td>2</td>\n",
       "    </tr>\n",
       "  </tbody>\n",
       "</table>\n",
       "</div>"
      ],
      "text/plain": [
       "  PROD_ID      DATE_EXTRACTION COMPETITOR  COMPETITOR_PRICE  PAY_TYPE\n",
       "0      P6  2015-01-30 08:11:38         C3           1898.00         1\n",
       "1      P6  2015-01-30 08:11:38         C1           1898.00         1\n",
       "2      P6  2015-01-30 08:11:38         C6           1999.90         1\n",
       "3      P6  2015-01-31 20:10:14         C2           1894.88         2\n",
       "4      P6  2015-01-31 20:10:14         C3           1894.88         2"
      ]
     },
     "execution_count": 4,
     "metadata": {},
     "output_type": "execute_result"
    }
   ],
   "source": [
    "df_comp_price.head()"
   ]
  },
  {
   "cell_type": "code",
   "execution_count": 5,
   "id": "c99b1f7f",
   "metadata": {},
   "outputs": [
    {
     "name": "stdout",
     "output_type": "stream",
     "text": [
      "<class 'pandas.core.frame.DataFrame'>\n",
      "RangeIndex: 50114 entries, 0 to 50113\n",
      "Data columns (total 5 columns):\n",
      " #   Column            Non-Null Count  Dtype  \n",
      "---  ------            --------------  -----  \n",
      " 0   PROD_ID           50114 non-null  object \n",
      " 1   DATE_EXTRACTION   50114 non-null  object \n",
      " 2   COMPETITOR        50114 non-null  object \n",
      " 3   COMPETITOR_PRICE  50114 non-null  float64\n",
      " 4   PAY_TYPE          50114 non-null  int64  \n",
      "dtypes: float64(1), int64(1), object(3)\n",
      "memory usage: 1.9+ MB\n"
     ]
    }
   ],
   "source": [
    "df_comp_price.info()"
   ]
  },
  {
   "cell_type": "markdown",
   "id": "79e49966",
   "metadata": {},
   "source": [
    "> Neste ponto já possível observar que não temos nenhuma coluna que tenha algum de seus atributos vazio."
   ]
  },
  {
   "cell_type": "markdown",
   "id": "0ec9273c",
   "metadata": {},
   "source": [
    "## Descrição do Dataframe"
   ]
  },
  {
   "cell_type": "code",
   "execution_count": 6,
   "id": "1ef0215c",
   "metadata": {},
   "outputs": [
    {
     "data": {
      "text/html": [
       "<div>\n",
       "<style scoped>\n",
       "    .dataframe tbody tr th:only-of-type {\n",
       "        vertical-align: middle;\n",
       "    }\n",
       "\n",
       "    .dataframe tbody tr th {\n",
       "        vertical-align: top;\n",
       "    }\n",
       "\n",
       "    .dataframe thead th {\n",
       "        text-align: right;\n",
       "    }\n",
       "</style>\n",
       "<table border=\"1\" class=\"dataframe\">\n",
       "  <thead>\n",
       "    <tr style=\"text-align: right;\">\n",
       "      <th></th>\n",
       "      <th>COMPETITOR_PRICE</th>\n",
       "      <th>PAY_TYPE</th>\n",
       "    </tr>\n",
       "  </thead>\n",
       "  <tbody>\n",
       "    <tr>\n",
       "      <th>count</th>\n",
       "      <td>50114.000000</td>\n",
       "      <td>50114.000000</td>\n",
       "    </tr>\n",
       "    <tr>\n",
       "      <th>mean</th>\n",
       "      <td>1111.281449</td>\n",
       "      <td>1.499701</td>\n",
       "    </tr>\n",
       "    <tr>\n",
       "      <th>std</th>\n",
       "      <td>3805.613500</td>\n",
       "      <td>0.500005</td>\n",
       "    </tr>\n",
       "    <tr>\n",
       "      <th>min</th>\n",
       "      <td>359.100000</td>\n",
       "      <td>1.000000</td>\n",
       "    </tr>\n",
       "    <tr>\n",
       "      <th>25%</th>\n",
       "      <td>549.000000</td>\n",
       "      <td>1.000000</td>\n",
       "    </tr>\n",
       "    <tr>\n",
       "      <th>50%</th>\n",
       "      <td>799.000000</td>\n",
       "      <td>1.000000</td>\n",
       "    </tr>\n",
       "    <tr>\n",
       "      <th>75%</th>\n",
       "      <td>1359.000000</td>\n",
       "      <td>2.000000</td>\n",
       "    </tr>\n",
       "    <tr>\n",
       "      <th>max</th>\n",
       "      <td>149900.000000</td>\n",
       "      <td>2.000000</td>\n",
       "    </tr>\n",
       "  </tbody>\n",
       "</table>\n",
       "</div>"
      ],
      "text/plain": [
       "       COMPETITOR_PRICE      PAY_TYPE\n",
       "count      50114.000000  50114.000000\n",
       "mean        1111.281449      1.499701\n",
       "std         3805.613500      0.500005\n",
       "min          359.100000      1.000000\n",
       "25%          549.000000      1.000000\n",
       "50%          799.000000      1.000000\n",
       "75%         1359.000000      2.000000\n",
       "max       149900.000000      2.000000"
      ]
     },
     "execution_count": 6,
     "metadata": {},
     "output_type": "execute_result"
    }
   ],
   "source": [
    "df_comp_price.describe()"
   ]
  },
  {
   "cell_type": "markdown",
   "id": "69b6f1ac",
   "metadata": {},
   "source": [
    "# Tratamento e Limpeza dos dados"
   ]
  },
  {
   "cell_type": "markdown",
   "id": "92ea8c7c",
   "metadata": {},
   "source": [
    "## Função que permite a visualização dos produtos por seus respectivos valores unitários"
   ]
  },
  {
   "cell_type": "code",
   "execution_count": 7,
   "id": "5236d663",
   "metadata": {},
   "outputs": [],
   "source": [
    "def plot_boxplot(df_plt, x_plt, y_plt, order_plt):\n",
    "    plt.rcParams['figure.figsize'] = [10,8]\n",
    "    sns.boxplot(data = df_plt, x=x_plt, y=y_plt, order=order, orient=\"v\", palette=\"Set2\" ,whis=1.5,saturation=1, width=0.7)\n",
    "    # plt.title(\"\", fontsize = 14, fontweight = 'bold')\n",
    "    plt.ylabel(x_plt, fontweight = 'bold')\n",
    "    plt.xlabel(y_plt, fontweight = 'bold')"
   ]
  },
  {
   "cell_type": "code",
   "execution_count": 8,
   "id": "0d98d27d",
   "metadata": {},
   "outputs": [
    {
     "data": {
      "image/png": "[encoded data removed]",
      "text/plain": [
       "<Figure size 720x576 with 1 Axes>"
      ]
     },
     "metadata": {
      "needs_background": "light"
     },
     "output_type": "display_data"
    }
   ],
   "source": [
    "x='PROD_ID' \n",
    "y='COMPETITOR_PRICE'\n",
    "order=['P1', 'P2', 'P3', 'P4', 'P5', 'P6', 'P7', 'P8', 'P9']\n",
    "plot_boxplot(df_comp_price, x, y, order)\n"
   ]
  },
  {
   "cell_type": "markdown",
   "id": "df5c11ca",
   "metadata": {},
   "source": [
    "Percebe-se que temos uma quantidade grande de outliers nesses preços, pode ser em algum momento/dia em que foram coletados os valores, pode ter ocorrido algum erro."
   ]
  },
  {
   "cell_type": "markdown",
   "id": "429ae06e",
   "metadata": {},
   "source": [
    "## Remover possíveis outliers por produto"
   ]
  },
  {
   "cell_type": "code",
   "execution_count": 9,
   "id": "c7121e11",
   "metadata": {},
   "outputs": [],
   "source": [
    "def remove_outliers_sales(df, col_id, col_outlier):\n",
    "    column_ID = df[col_id].unique()\n",
    "    for i in (column_ID):\n",
    "        df_loc_col = df.loc[df[col_id] == i][col_outlier]\n",
    "        Q1 = df_loc_col.quantile(0.05)\n",
    "        Q3 = df_loc_col.quantile(0.95)\n",
    "        IQR = Q3 - Q1\n",
    "        \n",
    "        _filter = (df_loc_col >= Q1 - 1.5*IQR) & (df_loc_col <= Q3 + 1.5*IQR)\n",
    "\n",
    "        df.loc[df[col_id] == i, [col_outlier]] = df_loc_col.loc[_filter]"
   ]
  },
  {
   "cell_type": "code",
   "execution_count": 10,
   "id": "91d78c36",
   "metadata": {},
   "outputs": [],
   "source": [
    "df = df_comp_price.copy()\n",
    "\n",
    "remove_outliers_sales(df, col_id = 'PROD_ID', col_outlier = 'COMPETITOR_PRICE')"
   ]
  },
  {
   "cell_type": "code",
   "execution_count": 11,
   "id": "d3552bf7",
   "metadata": {},
   "outputs": [
    {
     "name": "stdout",
     "output_type": "stream",
     "text": [
      "Foram removidos 82 outliers\n"
     ]
    }
   ],
   "source": [
    "outliers = df_comp_price['COMPETITOR_PRICE'].count() - df['COMPETITOR_PRICE'].count()\n",
    "print('Foram removidos {} outliers'.format(outliers))"
   ]
  },
  {
   "cell_type": "markdown",
   "id": "c4868d74",
   "metadata": {},
   "source": [
    "### Removendo do dataframe as colunas que ficaram com null"
   ]
  },
  {
   "cell_type": "code",
   "execution_count": 12,
   "id": "16d0258e",
   "metadata": {},
   "outputs": [
    {
     "name": "stdout",
     "output_type": "stream",
     "text": [
      "<class 'pandas.core.frame.DataFrame'>\n",
      "RangeIndex: 50032 entries, 0 to 50031\n",
      "Data columns (total 5 columns):\n",
      " #   Column            Non-Null Count  Dtype  \n",
      "---  ------            --------------  -----  \n",
      " 0   PROD_ID           50032 non-null  object \n",
      " 1   DATE_EXTRACTION   50032 non-null  object \n",
      " 2   COMPETITOR        50032 non-null  object \n",
      " 3   COMPETITOR_PRICE  50032 non-null  float64\n",
      " 4   PAY_TYPE          50032 non-null  int64  \n",
      "dtypes: float64(1), int64(1), object(3)\n",
      "memory usage: 1.9+ MB\n"
     ]
    }
   ],
   "source": [
    "df = df.dropna()\n",
    "df = df.reset_index(drop=True)\n",
    "df.info()"
   ]
  },
  {
   "cell_type": "markdown",
   "id": "888e4d3f",
   "metadata": {},
   "source": [
    "### Visualização dos produtos por preço unitário s/ outliers"
   ]
  },
  {
   "cell_type": "code",
   "execution_count": 13,
   "id": "d806dd1b",
   "metadata": {
    "scrolled": true
   },
   "outputs": [
    {
     "data": {
      "image/png": "[encoded data removed]",
      "text/plain": [
       "<Figure size 720x576 with 1 Axes>"
      ]
     },
     "metadata": {
      "needs_background": "light"
     },
     "output_type": "display_data"
    }
   ],
   "source": [
    "plot_boxplot(df, x, y, order)"
   ]
  },
  {
   "cell_type": "markdown",
   "id": "2da17d4f",
   "metadata": {},
   "source": [
    "Agora eliminando os devidos rúidos dos valores de venda, já podemos olhar pra P6 e ver que ele tem a maior média, P8 e P9 menores médias."
   ]
  },
  {
   "cell_type": "markdown",
   "id": "664d1161",
   "metadata": {},
   "source": [
    "# Preparação dos dados"
   ]
  },
  {
   "cell_type": "markdown",
   "id": "c638322c",
   "metadata": {},
   "source": [
    "## Normalizar Colunas"
   ]
  },
  {
   "cell_type": "code",
   "execution_count": 14,
   "id": "69e6e2bb",
   "metadata": {},
   "outputs": [],
   "source": [
    "def normalize_col(df, col_name):\n",
    "    \n",
    "    norm = df[[col_name]].values.astype(float)\n",
    "    min_max_scaler = preprocessing.MinMaxScaler()\n",
    "    \n",
    "    x_scaled = min_max_scaler.fit_transform(norm)\n",
    "    new_col_name = col_name + '_NORMALIZED'\n",
    "    \n",
    "    df_normalized = pd.DataFrame(x_scaled)\n",
    "    df[[new_col_name]] = df_normalized"
   ]
  },
  {
   "cell_type": "markdown",
   "id": "6c065117",
   "metadata": {},
   "source": [
    "### Adicionando colunas mês e dia e hora (MONTH / DAY / HOUR)\n"
   ]
  },
  {
   "cell_type": "code",
   "execution_count": 15,
   "id": "ec6cbf16",
   "metadata": {},
   "outputs": [],
   "source": [
    "df['DATE_EXTRACTION'] =  pd.to_datetime(df['DATE_EXTRACTION'], format='%Y-%m-%d %H:%M:%S')\n",
    "\n",
    "df['MONTH'] = df['DATE_EXTRACTION'].dt.month\n",
    "df['DAY'] = df['DATE_EXTRACTION'].dt.weekday\n",
    "df['HOUR'] = df['DATE_EXTRACTION'].dt.hour"
   ]
  },
  {
   "cell_type": "code",
   "execution_count": 16,
   "id": "e5ae3da6",
   "metadata": {},
   "outputs": [
    {
     "data": {
      "text/html": [
       "<div>\n",
       "<style scoped>\n",
       "    .dataframe tbody tr th:only-of-type {\n",
       "        vertical-align: middle;\n",
       "    }\n",
       "\n",
       "    .dataframe tbody tr th {\n",
       "        vertical-align: top;\n",
       "    }\n",
       "\n",
       "    .dataframe thead th {\n",
       "        text-align: right;\n",
       "    }\n",
       "</style>\n",
       "<table border=\"1\" class=\"dataframe\">\n",
       "  <thead>\n",
       "    <tr style=\"text-align: right;\">\n",
       "      <th></th>\n",
       "      <th>PROD_ID</th>\n",
       "      <th>DATE_EXTRACTION</th>\n",
       "      <th>COMPETITOR</th>\n",
       "      <th>COMPETITOR_PRICE</th>\n",
       "      <th>PAY_TYPE</th>\n",
       "      <th>MONTH</th>\n",
       "      <th>DAY</th>\n",
       "      <th>HOUR</th>\n",
       "    </tr>\n",
       "  </thead>\n",
       "  <tbody>\n",
       "    <tr>\n",
       "      <th>0</th>\n",
       "      <td>P6</td>\n",
       "      <td>2015-01-30 08:11:38</td>\n",
       "      <td>C3</td>\n",
       "      <td>1898.00</td>\n",
       "      <td>1</td>\n",
       "      <td>1</td>\n",
       "      <td>4</td>\n",
       "      <td>8</td>\n",
       "    </tr>\n",
       "    <tr>\n",
       "      <th>1</th>\n",
       "      <td>P6</td>\n",
       "      <td>2015-01-30 08:11:38</td>\n",
       "      <td>C1</td>\n",
       "      <td>1898.00</td>\n",
       "      <td>1</td>\n",
       "      <td>1</td>\n",
       "      <td>4</td>\n",
       "      <td>8</td>\n",
       "    </tr>\n",
       "    <tr>\n",
       "      <th>2</th>\n",
       "      <td>P6</td>\n",
       "      <td>2015-01-30 08:11:38</td>\n",
       "      <td>C6</td>\n",
       "      <td>1999.90</td>\n",
       "      <td>1</td>\n",
       "      <td>1</td>\n",
       "      <td>4</td>\n",
       "      <td>8</td>\n",
       "    </tr>\n",
       "    <tr>\n",
       "      <th>3</th>\n",
       "      <td>P6</td>\n",
       "      <td>2015-01-31 20:10:14</td>\n",
       "      <td>C2</td>\n",
       "      <td>1894.88</td>\n",
       "      <td>2</td>\n",
       "      <td>1</td>\n",
       "      <td>5</td>\n",
       "      <td>20</td>\n",
       "    </tr>\n",
       "    <tr>\n",
       "      <th>4</th>\n",
       "      <td>P6</td>\n",
       "      <td>2015-01-31 20:10:14</td>\n",
       "      <td>C3</td>\n",
       "      <td>1894.88</td>\n",
       "      <td>2</td>\n",
       "      <td>1</td>\n",
       "      <td>5</td>\n",
       "      <td>20</td>\n",
       "    </tr>\n",
       "  </tbody>\n",
       "</table>\n",
       "</div>"
      ],
      "text/plain": [
       "  PROD_ID     DATE_EXTRACTION COMPETITOR  COMPETITOR_PRICE  PAY_TYPE  MONTH  \\\n",
       "0      P6 2015-01-30 08:11:38         C3           1898.00         1      1   \n",
       "1      P6 2015-01-30 08:11:38         C1           1898.00         1      1   \n",
       "2      P6 2015-01-30 08:11:38         C6           1999.90         1      1   \n",
       "3      P6 2015-01-31 20:10:14         C2           1894.88         2      1   \n",
       "4      P6 2015-01-31 20:10:14         C3           1894.88         2      1   \n",
       "\n",
       "   DAY  HOUR  \n",
       "0    4     8  \n",
       "1    4     8  \n",
       "2    4     8  \n",
       "3    5    20  \n",
       "4    5    20  "
      ]
     },
     "execution_count": 16,
     "metadata": {},
     "output_type": "execute_result"
    }
   ],
   "source": [
    "df.head()"
   ]
  },
  {
   "cell_type": "markdown",
   "id": "552c9ced",
   "metadata": {},
   "source": [
    "### Mapeamento dos valores das datas\n"
   ]
  },
  {
   "cell_type": "code",
   "execution_count": 17,
   "id": "4581742e",
   "metadata": {},
   "outputs": [],
   "source": [
    "# Mapeamento dos valores das datas\n",
    "\n",
    "# Months = {1:'Jan',2:'Feb',3:'Mar', 4:'Apr', 5:'Mai', 6:'Jun', 7:'Jul', 8:'Aug', 9:'Sep', 10:'Out'}\n",
    "# Weekday = {0:\"Seg\", 1:\"Ter\", 2:\"Qua\", 3:\"Qui\", 4:\"Sex\", 5:\"Sab\", 6:\"Dom\"}\n",
    "\n",
    "# df['MONTH'].replace(Months, inplace=True) \n",
    "# df['DAY'].replace(Weekday, inplace=True)\n"
   ]
  },
  {
   "cell_type": "markdown",
   "id": "0e0f753d",
   "metadata": {},
   "source": [
    "# Análise dos dados"
   ]
  },
  {
   "cell_type": "markdown",
   "id": "92340b58",
   "metadata": {},
   "source": [
    "O objetivo aqui é responder:\n",
    "\n",
    "\n",
    "1. Qual a quantidade de vendas por produto em cada competidor?\n",
    "\n",
    "2. Qual o tipo de pagamento utilizado em cada produto?\n",
    "\n",
    "3. Quais Competidores tem o melhor e pior preço para cada produto?\n",
    "\n",
    "4. Qual dias da semana tem maior volume de vendas?\n",
    "\n",
    "5. Qual mês tem maior volume de vendas?\n",
    "\n"
   ]
  },
  {
   "cell_type": "markdown",
   "id": "15d1b71a",
   "metadata": {},
   "source": [
    "## Qual a quantidade de vendas por produto em cada competidor?"
   ]
  },
  {
   "cell_type": "code",
   "execution_count": 18,
   "id": "fe19a2c7",
   "metadata": {},
   "outputs": [
    {
     "name": "stdout",
     "output_type": "stream",
     "text": [
      "Vendas por produto:  P1\n"
     ]
    },
    {
     "data": {
      "image/png": "[encoded data removed]",
      "text/plain": [
       "<Figure size 720x576 with 1 Axes>"
      ]
     },
     "metadata": {
      "needs_background": "light"
     },
     "output_type": "display_data"
    },
    {
     "name": "stdout",
     "output_type": "stream",
     "text": [
      "Vendas por produto:  P2\n"
     ]
    },
    {
     "data": {
      "image/png": "[encoded data removed]",
      "text/plain": [
       "<Figure size 720x576 with 1 Axes>"
      ]
     },
     "metadata": {
      "needs_background": "light"
     },
     "output_type": "display_data"
    },
    {
     "name": "stdout",
     "output_type": "stream",
     "text": [
      "Vendas por produto:  P3\n"
     ]
    },
    {
     "data": {
      "image/png": "[encoded data removed]",
      "text/plain": [
       "<Figure size 720x576 with 1 Axes>"
      ]
     },
     "metadata": {
      "needs_background": "light"
     },
     "output_type": "display_data"
    },
    {
     "name": "stdout",
     "output_type": "stream",
     "text": [
      "Vendas por produto:  P4\n"
     ]
    },
    {
     "data": {
      "image/png": "[encoded data removed]",
      "text/plain": [
       "<Figure size 720x576 with 1 Axes>"
      ]
     },
     "metadata": {
      "needs_background": "light"
     },
     "output_type": "display_data"
    },
    {
     "name": "stdout",
     "output_type": "stream",
     "text": [
      "Vendas por produto:  P5\n"
     ]
    },
    {
     "data": {
      "image/png": "[encoded data removed]",
      "text/plain": [
       "<Figure size 720x576 with 1 Axes>"
      ]
     },
     "metadata": {
      "needs_background": "light"
     },
     "output_type": "display_data"
    },
    {
     "name": "stdout",
     "output_type": "stream",
     "text": [
      "Vendas por produto:  P6\n"
     ]
    },
    {
     "data": {
      "image/png": "[encoded data removed]",
      "text/plain": [
       "<Figure size 720x576 with 1 Axes>"
      ]
     },
     "metadata": {
      "needs_background": "light"
     },
     "output_type": "display_data"
    },
    {
     "name": "stdout",
     "output_type": "stream",
     "text": [
      "Vendas por produto:  P7\n"
     ]
    },
    {
     "data": {
      "image/png": "[encoded data removed]",
      "text/plain": [
       "<Figure size 720x576 with 1 Axes>"
      ]
     },
     "metadata": {
      "needs_background": "light"
     },
     "output_type": "display_data"
    },
    {
     "name": "stdout",
     "output_type": "stream",
     "text": [
      "Vendas por produto:  P8\n"
     ]
    },
    {
     "data": {
      "image/png": "[encoded data removed]",
      "text/plain": [
       "<Figure size 720x576 with 1 Axes>"
      ]
     },
     "metadata": {
      "needs_background": "light"
     },
     "output_type": "display_data"
    },
    {
     "name": "stdout",
     "output_type": "stream",
     "text": [
      "Vendas por produto:  P9\n"
     ]
    },
    {
     "data": {
      "image/png": "[encoded data removed]",
      "text/plain": [
       "<Figure size 720x576 with 1 Axes>"
      ]
     },
     "metadata": {
      "needs_background": "light"
     },
     "output_type": "display_data"
    }
   ],
   "source": [
    "\n",
    "column_ID = df['PROD_ID'].unique()\n",
    "column_ID.sort()\n",
    "# len(column_ID)\n",
    "\n",
    "for i in (column_ID):\n",
    "    print('Vendas por produto: ', i)\n",
    "    ax = (sns.countplot(x = 'COMPETITOR',\n",
    "                  data = df.loc[df['PROD_ID'] == i],\n",
    "                  order = df['COMPETITOR'].value_counts().index[::-1]))\n",
    "\n",
    "    for p in ax.patches:\n",
    "        height = p.get_height()\n",
    "        if height > 0:\n",
    "            ax.text(p.get_x(), height+ 3, 'n=%.0f'%(height))\n",
    "    plt.show()\n"
   ]
  },
  {
   "cell_type": "markdown",
   "id": "81121685",
   "metadata": {},
   "source": [
    "## Qual o tipo de pagamento utilizado em cada produto?"
   ]
  },
  {
   "cell_type": "code",
   "execution_count": 19,
   "id": "64faf453",
   "metadata": {},
   "outputs": [
    {
     "name": "stdout",
     "output_type": "stream",
     "text": [
      "Tipos de pagamento por produto:  P1\n"
     ]
    },
    {
     "data": {
      "image/png": "[encoded data removed]",
      "text/plain": [
       "<Figure size 720x576 with 1 Axes>"
      ]
     },
     "metadata": {
      "needs_background": "light"
     },
     "output_type": "display_data"
    },
    {
     "name": "stdout",
     "output_type": "stream",
     "text": [
      "Tipos de pagamento por produto:  P2\n"
     ]
    },
    {
     "data": {
      "image/png": "[encoded data removed]",
      "text/plain": [
       "<Figure size 720x576 with 1 Axes>"
      ]
     },
     "metadata": {
      "needs_background": "light"
     },
     "output_type": "display_data"
    },
    {
     "name": "stdout",
     "output_type": "stream",
     "text": [
      "Tipos de pagamento por produto:  P3\n"
     ]
    },
    {
     "data": {
      "image/png": "[encoded data removed]",
      "text/plain": [
       "<Figure size 720x576 with 1 Axes>"
      ]
     },
     "metadata": {
      "needs_background": "light"
     },
     "output_type": "display_data"
    },
    {
     "name": "stdout",
     "output_type": "stream",
     "text": [
      "Tipos de pagamento por produto:  P4\n"
     ]
    },
    {
     "data": {
      "image/png": "[encoded data removed]",
      "text/plain": [
       "<Figure size 720x576 with 1 Axes>"
      ]
     },
     "metadata": {
      "needs_background": "light"
     },
     "output_type": "display_data"
    },
    {
     "name": "stdout",
     "output_type": "stream",
     "text": [
      "Tipos de pagamento por produto:  P5\n"
     ]
    },
    {
     "data": {
      "image/png": "[encoded data removed]",
      "text/plain": [
       "<Figure size 720x576 with 1 Axes>"
      ]
     },
     "metadata": {
      "needs_background": "light"
     },
     "output_type": "display_data"
    },
    {
     "name": "stdout",
     "output_type": "stream",
     "text": [
      "Tipos de pagamento por produto:  P6\n"
     ]
    },
    {
     "data": {
      "image/png": "[encoded data removed]",
      "text/plain": [
       "<Figure size 720x576 with 1 Axes>"
      ]
     },
     "metadata": {
      "needs_background": "light"
     },
     "output_type": "display_data"
    },
    {
     "name": "stdout",
     "output_type": "stream",
     "text": [
      "Tipos de pagamento por produto:  P7\n"
     ]
    },
    {
     "data": {
      "image/png": "[encoded data removed]",
      "text/plain": [
       "<Figure size 720x576 with 1 Axes>"
      ]
     },
     "metadata": {
      "needs_background": "light"
     },
     "output_type": "display_data"
    },
    {
     "name": "stdout",
     "output_type": "stream",
     "text": [
      "Tipos de pagamento por produto:  P8\n"
     ]
    },
    {
     "data": {
      "image/png": "[encoded data removed]",
      "text/plain": [
       "<Figure size 720x576 with 1 Axes>"
      ]
     },
     "metadata": {
      "needs_background": "light"
     },
     "output_type": "display_data"
    },
    {
     "name": "stdout",
     "output_type": "stream",
     "text": [
      "Tipos de pagamento por produto:  P9\n"
     ]
    },
    {
     "data": {
      "image/png": "[encoded data removed]",
      "text/plain": [
       "<Figure size 720x576 with 1 Axes>"
      ]
     },
     "metadata": {
      "needs_background": "light"
     },
     "output_type": "display_data"
    }
   ],
   "source": [
    "for i in (column_ID):\n",
    "    print('Tipos de pagamento por produto: ', i)\n",
    "    ax = (sns.countplot(x = 'PAY_TYPE',\n",
    "                  data = df.loc[df['PROD_ID'] == i],\n",
    "                  order = df['PAY_TYPE'].value_counts().index[::-1]))\n",
    "\n",
    "    for p in ax.patches:\n",
    "        height = p.get_height()\n",
    "        ax.text(p.get_x(), height+ 3, 'n=%.0f'%(height))\n",
    "    plt.show()"
   ]
  },
  {
   "cell_type": "markdown",
   "id": "e18857b3",
   "metadata": {},
   "source": [
    "**PAY_TYPE**\n",
    "\n",
    "- Nota-se que a quantidade do tipo do meio de pagamento é muito próxima em cada um dos itens por isso, na minha análise vou considerar como um todo.\n",
    "- Mas esse fator pode influenciar no preço final dos produtos. E poderiam ser comparados os preços por cada meio de pagamento."
   ]
  },
  {
   "cell_type": "markdown",
   "id": "cf601b47",
   "metadata": {},
   "source": [
    "## Quais Competidores tem o melhor e pior preço para cada produto?"
   ]
  },
  {
   "cell_type": "code",
   "execution_count": 20,
   "id": "d33f5328",
   "metadata": {},
   "outputs": [
    {
     "data": {
      "text/html": [
       "<div>\n",
       "<style scoped>\n",
       "    .dataframe tbody tr th:only-of-type {\n",
       "        vertical-align: middle;\n",
       "    }\n",
       "\n",
       "    .dataframe tbody tr th {\n",
       "        vertical-align: top;\n",
       "    }\n",
       "\n",
       "    .dataframe thead th {\n",
       "        text-align: right;\n",
       "    }\n",
       "</style>\n",
       "<table border=\"1\" class=\"dataframe\">\n",
       "  <thead>\n",
       "    <tr style=\"text-align: right;\">\n",
       "      <th></th>\n",
       "      <th>PROD_ID</th>\n",
       "      <th>COMPETITOR</th>\n",
       "      <th>PRICE_AVG</th>\n",
       "      <th>BEST_PRICE</th>\n",
       "      <th>WORST_PRICE</th>\n",
       "    </tr>\n",
       "  </thead>\n",
       "  <tbody>\n",
       "  </tbody>\n",
       "</table>\n",
       "</div>"
      ],
      "text/plain": [
       "Empty DataFrame\n",
       "Columns: [PROD_ID, COMPETITOR, PRICE_AVG, BEST_PRICE, WORST_PRICE]\n",
       "Index: []"
      ]
     },
     "execution_count": 20,
     "metadata": {},
     "output_type": "execute_result"
    }
   ],
   "source": [
    "column_names = ['PROD_ID', 'COMPETITOR', 'PRICE_AVG', 'BEST_PRICE', 'WORST_PRICE']\n",
    "df_avg_price_competitor = pd.DataFrame(columns = column_names)\n",
    "df_avg_price_competitor"
   ]
  },
  {
   "cell_type": "code",
   "execution_count": null,
   "id": "5aea4563",
   "metadata": {},
   "outputs": [],
   "source": []
  },
  {
   "cell_type": "code",
   "execution_count": 21,
   "id": "8bf4877c",
   "metadata": {},
   "outputs": [],
   "source": [
    "col_prod_ID = df['PROD_ID'].unique()\n",
    "col_prod_ID.sort()\n",
    "col_competitor = df['COMPETITOR'].unique()\n",
    "col_competitor.sort()\n",
    "\n",
    "for i in (col_prod_ID):\n",
    "    for c in (col_competitor):\n",
    "        avg = round(df.loc[(df['PROD_ID'] == i) & (df['COMPETITOR'] == c)]['COMPETITOR_PRICE'].mean(), 2)\n",
    "        df_avg_price_competitor = df_avg_price_competitor.append({'PROD_ID': i, 'COMPETITOR': c, 'PRICE_AVG': avg, 'BEST_PRICE': 0, 'WORST_PRICE': 0}, \n",
    "                ignore_index = True)\n"
   ]
  },
  {
   "cell_type": "markdown",
   "id": "b3d5bdea",
   "metadata": {},
   "source": [
    "### Removendo produtos dos competidores que não apresentaram vendas, ou seja, estão sem média\n"
   ]
  },
  {
   "cell_type": "code",
   "execution_count": 22,
   "id": "be30551b",
   "metadata": {},
   "outputs": [],
   "source": [
    "df_avg_price_competitor = df_avg_price_competitor.dropna()\n",
    "df_avg_price_competitor = df_avg_price_competitor.reset_index(drop=True)\n"
   ]
  },
  {
   "cell_type": "code",
   "execution_count": 23,
   "id": "48da2d6a",
   "metadata": {},
   "outputs": [
    {
     "data": {
      "text/html": [
       "<div>\n",
       "<style scoped>\n",
       "    .dataframe tbody tr th:only-of-type {\n",
       "        vertical-align: middle;\n",
       "    }\n",
       "\n",
       "    .dataframe tbody tr th {\n",
       "        vertical-align: top;\n",
       "    }\n",
       "\n",
       "    .dataframe thead th {\n",
       "        text-align: right;\n",
       "    }\n",
       "</style>\n",
       "<table border=\"1\" class=\"dataframe\">\n",
       "  <thead>\n",
       "    <tr style=\"text-align: right;\">\n",
       "      <th></th>\n",
       "      <th>PROD_ID</th>\n",
       "      <th>COMPETITOR</th>\n",
       "      <th>PRICE_AVG</th>\n",
       "      <th>BEST_PRICE</th>\n",
       "      <th>WORST_PRICE</th>\n",
       "    </tr>\n",
       "  </thead>\n",
       "  <tbody>\n",
       "    <tr>\n",
       "      <th>0</th>\n",
       "      <td>P1</td>\n",
       "      <td>C1</td>\n",
       "      <td>1507.48</td>\n",
       "      <td>0</td>\n",
       "      <td>0</td>\n",
       "    </tr>\n",
       "    <tr>\n",
       "      <th>1</th>\n",
       "      <td>P1</td>\n",
       "      <td>C2</td>\n",
       "      <td>1527.58</td>\n",
       "      <td>0</td>\n",
       "      <td>0</td>\n",
       "    </tr>\n",
       "    <tr>\n",
       "      <th>2</th>\n",
       "      <td>P1</td>\n",
       "      <td>C3</td>\n",
       "      <td>1433.09</td>\n",
       "      <td>0</td>\n",
       "      <td>0</td>\n",
       "    </tr>\n",
       "    <tr>\n",
       "      <th>3</th>\n",
       "      <td>P1</td>\n",
       "      <td>C5</td>\n",
       "      <td>1459.47</td>\n",
       "      <td>0</td>\n",
       "      <td>0</td>\n",
       "    </tr>\n",
       "    <tr>\n",
       "      <th>4</th>\n",
       "      <td>P1</td>\n",
       "      <td>C6</td>\n",
       "      <td>1496.51</td>\n",
       "      <td>0</td>\n",
       "      <td>0</td>\n",
       "    </tr>\n",
       "  </tbody>\n",
       "</table>\n",
       "</div>"
      ],
      "text/plain": [
       "  PROD_ID COMPETITOR  PRICE_AVG BEST_PRICE WORST_PRICE\n",
       "0      P1         C1    1507.48          0           0\n",
       "1      P1         C2    1527.58          0           0\n",
       "2      P1         C3    1433.09          0           0\n",
       "3      P1         C5    1459.47          0           0\n",
       "4      P1         C6    1496.51          0           0"
      ]
     },
     "execution_count": 23,
     "metadata": {},
     "output_type": "execute_result"
    }
   ],
   "source": [
    "df_avg_price_competitor.head()"
   ]
  },
  {
   "cell_type": "markdown",
   "id": "f476627f",
   "metadata": {},
   "source": [
    "### Atribuindo 1 para as novas colunas BEST_PRICE e  WORST_PRICE quando o concorrente tem o melhor ou o pior preço"
   ]
  },
  {
   "cell_type": "code",
   "execution_count": 24,
   "id": "3fdf5f84",
   "metadata": {},
   "outputs": [],
   "source": [
    "for i in (col_prod_ID):\n",
    "    row_price = df_avg_price_competitor.loc[(df_avg_price_competitor['PROD_ID'] == i)]\n",
    "    max_price = row_price.loc[(row_price['PRICE_AVG'] == row_price['PRICE_AVG'].max())]\n",
    "    index = max_price.index  \n",
    "    df_avg_price_competitor['WORST_PRICE'].iloc[index[0]] = 1\n",
    "    \n",
    "    min_price = row_price.loc[(row_price['PRICE_AVG'] == row_price['PRICE_AVG'].min())]\n",
    "    index = min_price.index\n",
    "    df_avg_price_competitor['BEST_PRICE'].iloc[index[0]] = 1\n",
    "\n",
    "        "
   ]
  },
  {
   "cell_type": "code",
   "execution_count": 25,
   "id": "8cd76d50",
   "metadata": {},
   "outputs": [
    {
     "data": {
      "text/html": [
       "<div>\n",
       "<style scoped>\n",
       "    .dataframe tbody tr th:only-of-type {\n",
       "        vertical-align: middle;\n",
       "    }\n",
       "\n",
       "    .dataframe tbody tr th {\n",
       "        vertical-align: top;\n",
       "    }\n",
       "\n",
       "    .dataframe thead th {\n",
       "        text-align: right;\n",
       "    }\n",
       "</style>\n",
       "<table border=\"1\" class=\"dataframe\">\n",
       "  <thead>\n",
       "    <tr style=\"text-align: right;\">\n",
       "      <th></th>\n",
       "      <th>PROD_ID</th>\n",
       "      <th>COMPETITOR</th>\n",
       "      <th>PRICE_AVG</th>\n",
       "      <th>BEST_PRICE</th>\n",
       "      <th>WORST_PRICE</th>\n",
       "    </tr>\n",
       "  </thead>\n",
       "  <tbody>\n",
       "    <tr>\n",
       "      <th>0</th>\n",
       "      <td>P1</td>\n",
       "      <td>C1</td>\n",
       "      <td>1507.48</td>\n",
       "      <td>0</td>\n",
       "      <td>0</td>\n",
       "    </tr>\n",
       "    <tr>\n",
       "      <th>1</th>\n",
       "      <td>P1</td>\n",
       "      <td>C2</td>\n",
       "      <td>1527.58</td>\n",
       "      <td>0</td>\n",
       "      <td>1</td>\n",
       "    </tr>\n",
       "    <tr>\n",
       "      <th>2</th>\n",
       "      <td>P1</td>\n",
       "      <td>C3</td>\n",
       "      <td>1433.09</td>\n",
       "      <td>1</td>\n",
       "      <td>0</td>\n",
       "    </tr>\n",
       "    <tr>\n",
       "      <th>3</th>\n",
       "      <td>P1</td>\n",
       "      <td>C5</td>\n",
       "      <td>1459.47</td>\n",
       "      <td>0</td>\n",
       "      <td>0</td>\n",
       "    </tr>\n",
       "    <tr>\n",
       "      <th>4</th>\n",
       "      <td>P1</td>\n",
       "      <td>C6</td>\n",
       "      <td>1496.51</td>\n",
       "      <td>0</td>\n",
       "      <td>0</td>\n",
       "    </tr>\n",
       "    <tr>\n",
       "      <th>5</th>\n",
       "      <td>P2</td>\n",
       "      <td>C1</td>\n",
       "      <td>710.94</td>\n",
       "      <td>0</td>\n",
       "      <td>0</td>\n",
       "    </tr>\n",
       "    <tr>\n",
       "      <th>6</th>\n",
       "      <td>P2</td>\n",
       "      <td>C2</td>\n",
       "      <td>709.16</td>\n",
       "      <td>0</td>\n",
       "      <td>0</td>\n",
       "    </tr>\n",
       "    <tr>\n",
       "      <th>7</th>\n",
       "      <td>P2</td>\n",
       "      <td>C3</td>\n",
       "      <td>695.07</td>\n",
       "      <td>1</td>\n",
       "      <td>0</td>\n",
       "    </tr>\n",
       "    <tr>\n",
       "      <th>8</th>\n",
       "      <td>P2</td>\n",
       "      <td>C4</td>\n",
       "      <td>750.69</td>\n",
       "      <td>0</td>\n",
       "      <td>0</td>\n",
       "    </tr>\n",
       "    <tr>\n",
       "      <th>9</th>\n",
       "      <td>P2</td>\n",
       "      <td>C5</td>\n",
       "      <td>784.73</td>\n",
       "      <td>0</td>\n",
       "      <td>0</td>\n",
       "    </tr>\n",
       "    <tr>\n",
       "      <th>10</th>\n",
       "      <td>P2</td>\n",
       "      <td>C6</td>\n",
       "      <td>788.39</td>\n",
       "      <td>0</td>\n",
       "      <td>1</td>\n",
       "    </tr>\n",
       "    <tr>\n",
       "      <th>11</th>\n",
       "      <td>P3</td>\n",
       "      <td>C1</td>\n",
       "      <td>1192.74</td>\n",
       "      <td>0</td>\n",
       "      <td>0</td>\n",
       "    </tr>\n",
       "    <tr>\n",
       "      <th>12</th>\n",
       "      <td>P3</td>\n",
       "      <td>C2</td>\n",
       "      <td>1191.82</td>\n",
       "      <td>1</td>\n",
       "      <td>0</td>\n",
       "    </tr>\n",
       "    <tr>\n",
       "      <th>13</th>\n",
       "      <td>P3</td>\n",
       "      <td>C3</td>\n",
       "      <td>1199.35</td>\n",
       "      <td>0</td>\n",
       "      <td>0</td>\n",
       "    </tr>\n",
       "    <tr>\n",
       "      <th>14</th>\n",
       "      <td>P3</td>\n",
       "      <td>C4</td>\n",
       "      <td>1301.00</td>\n",
       "      <td>0</td>\n",
       "      <td>0</td>\n",
       "    </tr>\n",
       "    <tr>\n",
       "      <th>15</th>\n",
       "      <td>P3</td>\n",
       "      <td>C5</td>\n",
       "      <td>1393.29</td>\n",
       "      <td>0</td>\n",
       "      <td>1</td>\n",
       "    </tr>\n",
       "    <tr>\n",
       "      <th>16</th>\n",
       "      <td>P3</td>\n",
       "      <td>C6</td>\n",
       "      <td>1254.14</td>\n",
       "      <td>0</td>\n",
       "      <td>0</td>\n",
       "    </tr>\n",
       "    <tr>\n",
       "      <th>17</th>\n",
       "      <td>P4</td>\n",
       "      <td>C4</td>\n",
       "      <td>517.85</td>\n",
       "      <td>1</td>\n",
       "      <td>0</td>\n",
       "    </tr>\n",
       "    <tr>\n",
       "      <th>18</th>\n",
       "      <td>P4</td>\n",
       "      <td>C5</td>\n",
       "      <td>532.01</td>\n",
       "      <td>0</td>\n",
       "      <td>0</td>\n",
       "    </tr>\n",
       "    <tr>\n",
       "      <th>19</th>\n",
       "      <td>P4</td>\n",
       "      <td>C6</td>\n",
       "      <td>551.79</td>\n",
       "      <td>0</td>\n",
       "      <td>1</td>\n",
       "    </tr>\n",
       "    <tr>\n",
       "      <th>20</th>\n",
       "      <td>P5</td>\n",
       "      <td>C1</td>\n",
       "      <td>895.81</td>\n",
       "      <td>0</td>\n",
       "      <td>1</td>\n",
       "    </tr>\n",
       "    <tr>\n",
       "      <th>21</th>\n",
       "      <td>P5</td>\n",
       "      <td>C2</td>\n",
       "      <td>883.65</td>\n",
       "      <td>0</td>\n",
       "      <td>0</td>\n",
       "    </tr>\n",
       "    <tr>\n",
       "      <th>22</th>\n",
       "      <td>P5</td>\n",
       "      <td>C3</td>\n",
       "      <td>868.88</td>\n",
       "      <td>1</td>\n",
       "      <td>0</td>\n",
       "    </tr>\n",
       "    <tr>\n",
       "      <th>23</th>\n",
       "      <td>P6</td>\n",
       "      <td>C1</td>\n",
       "      <td>1753.87</td>\n",
       "      <td>0</td>\n",
       "      <td>0</td>\n",
       "    </tr>\n",
       "    <tr>\n",
       "      <th>24</th>\n",
       "      <td>P6</td>\n",
       "      <td>C2</td>\n",
       "      <td>1770.92</td>\n",
       "      <td>0</td>\n",
       "      <td>0</td>\n",
       "    </tr>\n",
       "    <tr>\n",
       "      <th>25</th>\n",
       "      <td>P6</td>\n",
       "      <td>C3</td>\n",
       "      <td>1741.08</td>\n",
       "      <td>1</td>\n",
       "      <td>0</td>\n",
       "    </tr>\n",
       "    <tr>\n",
       "      <th>26</th>\n",
       "      <td>P6</td>\n",
       "      <td>C4</td>\n",
       "      <td>1750.39</td>\n",
       "      <td>0</td>\n",
       "      <td>0</td>\n",
       "    </tr>\n",
       "    <tr>\n",
       "      <th>27</th>\n",
       "      <td>P6</td>\n",
       "      <td>C6</td>\n",
       "      <td>1989.66</td>\n",
       "      <td>0</td>\n",
       "      <td>1</td>\n",
       "    </tr>\n",
       "    <tr>\n",
       "      <th>28</th>\n",
       "      <td>P7</td>\n",
       "      <td>C1</td>\n",
       "      <td>782.66</td>\n",
       "      <td>0</td>\n",
       "      <td>0</td>\n",
       "    </tr>\n",
       "    <tr>\n",
       "      <th>29</th>\n",
       "      <td>P7</td>\n",
       "      <td>C2</td>\n",
       "      <td>779.78</td>\n",
       "      <td>0</td>\n",
       "      <td>0</td>\n",
       "    </tr>\n",
       "    <tr>\n",
       "      <th>30</th>\n",
       "      <td>P7</td>\n",
       "      <td>C3</td>\n",
       "      <td>798.96</td>\n",
       "      <td>0</td>\n",
       "      <td>0</td>\n",
       "    </tr>\n",
       "    <tr>\n",
       "      <th>31</th>\n",
       "      <td>P7</td>\n",
       "      <td>C4</td>\n",
       "      <td>761.33</td>\n",
       "      <td>1</td>\n",
       "      <td>0</td>\n",
       "    </tr>\n",
       "    <tr>\n",
       "      <th>32</th>\n",
       "      <td>P7</td>\n",
       "      <td>C5</td>\n",
       "      <td>802.79</td>\n",
       "      <td>0</td>\n",
       "      <td>1</td>\n",
       "    </tr>\n",
       "    <tr>\n",
       "      <th>33</th>\n",
       "      <td>P7</td>\n",
       "      <td>C6</td>\n",
       "      <td>797.89</td>\n",
       "      <td>0</td>\n",
       "      <td>0</td>\n",
       "    </tr>\n",
       "    <tr>\n",
       "      <th>34</th>\n",
       "      <td>P8</td>\n",
       "      <td>C1</td>\n",
       "      <td>447.65</td>\n",
       "      <td>0</td>\n",
       "      <td>0</td>\n",
       "    </tr>\n",
       "    <tr>\n",
       "      <th>35</th>\n",
       "      <td>P8</td>\n",
       "      <td>C2</td>\n",
       "      <td>445.68</td>\n",
       "      <td>1</td>\n",
       "      <td>0</td>\n",
       "    </tr>\n",
       "    <tr>\n",
       "      <th>36</th>\n",
       "      <td>P8</td>\n",
       "      <td>C3</td>\n",
       "      <td>445.90</td>\n",
       "      <td>0</td>\n",
       "      <td>0</td>\n",
       "    </tr>\n",
       "    <tr>\n",
       "      <th>37</th>\n",
       "      <td>P8</td>\n",
       "      <td>C4</td>\n",
       "      <td>482.64</td>\n",
       "      <td>0</td>\n",
       "      <td>0</td>\n",
       "    </tr>\n",
       "    <tr>\n",
       "      <th>38</th>\n",
       "      <td>P8</td>\n",
       "      <td>C5</td>\n",
       "      <td>573.00</td>\n",
       "      <td>0</td>\n",
       "      <td>1</td>\n",
       "    </tr>\n",
       "    <tr>\n",
       "      <th>39</th>\n",
       "      <td>P8</td>\n",
       "      <td>C6</td>\n",
       "      <td>464.20</td>\n",
       "      <td>0</td>\n",
       "      <td>0</td>\n",
       "    </tr>\n",
       "    <tr>\n",
       "      <th>40</th>\n",
       "      <td>P9</td>\n",
       "      <td>C1</td>\n",
       "      <td>446.38</td>\n",
       "      <td>0</td>\n",
       "      <td>0</td>\n",
       "    </tr>\n",
       "    <tr>\n",
       "      <th>41</th>\n",
       "      <td>P9</td>\n",
       "      <td>C2</td>\n",
       "      <td>444.94</td>\n",
       "      <td>0</td>\n",
       "      <td>0</td>\n",
       "    </tr>\n",
       "    <tr>\n",
       "      <th>42</th>\n",
       "      <td>P9</td>\n",
       "      <td>C3</td>\n",
       "      <td>444.51</td>\n",
       "      <td>1</td>\n",
       "      <td>0</td>\n",
       "    </tr>\n",
       "    <tr>\n",
       "      <th>43</th>\n",
       "      <td>P9</td>\n",
       "      <td>C4</td>\n",
       "      <td>499.00</td>\n",
       "      <td>0</td>\n",
       "      <td>0</td>\n",
       "    </tr>\n",
       "    <tr>\n",
       "      <th>44</th>\n",
       "      <td>P9</td>\n",
       "      <td>C5</td>\n",
       "      <td>528.89</td>\n",
       "      <td>0</td>\n",
       "      <td>1</td>\n",
       "    </tr>\n",
       "    <tr>\n",
       "      <th>45</th>\n",
       "      <td>P9</td>\n",
       "      <td>C6</td>\n",
       "      <td>464.13</td>\n",
       "      <td>0</td>\n",
       "      <td>0</td>\n",
       "    </tr>\n",
       "  </tbody>\n",
       "</table>\n",
       "</div>"
      ],
      "text/plain": [
       "   PROD_ID COMPETITOR  PRICE_AVG BEST_PRICE WORST_PRICE\n",
       "0       P1         C1    1507.48          0           0\n",
       "1       P1         C2    1527.58          0           1\n",
       "2       P1         C3    1433.09          1           0\n",
       "3       P1         C5    1459.47          0           0\n",
       "4       P1         C6    1496.51          0           0\n",
       "5       P2         C1     710.94          0           0\n",
       "6       P2         C2     709.16          0           0\n",
       "7       P2         C3     695.07          1           0\n",
       "8       P2         C4     750.69          0           0\n",
       "9       P2         C5     784.73          0           0\n",
       "10      P2         C6     788.39          0           1\n",
       "11      P3         C1    1192.74          0           0\n",
       "12      P3         C2    1191.82          1           0\n",
       "13      P3         C3    1199.35          0           0\n",
       "14      P3         C4    1301.00          0           0\n",
       "15      P3         C5    1393.29          0           1\n",
       "16      P3         C6    1254.14          0           0\n",
       "17      P4         C4     517.85          1           0\n",
       "18      P4         C5     532.01          0           0\n",
       "19      P4         C6     551.79          0           1\n",
       "20      P5         C1     895.81          0           1\n",
       "21      P5         C2     883.65          0           0\n",
       "22      P5         C3     868.88          1           0\n",
       "23      P6         C1    1753.87          0           0\n",
       "24      P6         C2    1770.92          0           0\n",
       "25      P6         C3    1741.08          1           0\n",
       "26      P6         C4    1750.39          0           0\n",
       "27      P6         C6    1989.66          0           1\n",
       "28      P7         C1     782.66          0           0\n",
       "29      P7         C2     779.78          0           0\n",
       "30      P7         C3     798.96          0           0\n",
       "31      P7         C4     761.33          1           0\n",
       "32      P7         C5     802.79          0           1\n",
       "33      P7         C6     797.89          0           0\n",
       "34      P8         C1     447.65          0           0\n",
       "35      P8         C2     445.68          1           0\n",
       "36      P8         C3     445.90          0           0\n",
       "37      P8         C4     482.64          0           0\n",
       "38      P8         C5     573.00          0           1\n",
       "39      P8         C6     464.20          0           0\n",
       "40      P9         C1     446.38          0           0\n",
       "41      P9         C2     444.94          0           0\n",
       "42      P9         C3     444.51          1           0\n",
       "43      P9         C4     499.00          0           0\n",
       "44      P9         C5     528.89          0           1\n",
       "45      P9         C6     464.13          0           0"
      ]
     },
     "execution_count": 25,
     "metadata": {},
     "output_type": "execute_result"
    }
   ],
   "source": [
    "df_avg_price_competitor"
   ]
  },
  {
   "cell_type": "markdown",
   "id": "214c7594",
   "metadata": {},
   "source": [
    "### Na média o melhor preço dos produtos em cada concorrente são:"
   ]
  },
  {
   "cell_type": "code",
   "execution_count": 26,
   "id": "1e1d2d47",
   "metadata": {},
   "outputs": [
    {
     "name": "stdout",
     "output_type": "stream",
     "text": [
      "Gráfico Preço Médio  por produto:  P1\n"
     ]
    },
    {
     "data": {
      "image/png": "[encoded data removed]",
      "text/plain": [
       "<Figure size 720x576 with 1 Axes>"
      ]
     },
     "metadata": {
      "needs_background": "light"
     },
     "output_type": "display_data"
    },
    {
     "name": "stdout",
     "output_type": "stream",
     "text": [
      "Gráfico Preço Médio  por produto:  P2\n"
     ]
    },
    {
     "data": {
      "image/png": "[encoded data removed]",
      "text/plain": [
       "<Figure size 720x576 with 1 Axes>"
      ]
     },
     "metadata": {
      "needs_background": "light"
     },
     "output_type": "display_data"
    },
    {
     "name": "stdout",
     "output_type": "stream",
     "text": [
      "Gráfico Preço Médio  por produto:  P3\n"
     ]
    },
    {
     "data": {
      "image/png": "[encoded data removed]",
      "text/plain": [
       "<Figure size 720x576 with 1 Axes>"
      ]
     },
     "metadata": {
      "needs_background": "light"
     },
     "output_type": "display_data"
    },
    {
     "name": "stdout",
     "output_type": "stream",
     "text": [
      "Gráfico Preço Médio  por produto:  P4\n"
     ]
    },
    {
     "data": {
      "image/png": "[encoded data removed]",
      "text/plain": [
       "<Figure size 720x576 with 1 Axes>"
      ]
     },
     "metadata": {
      "needs_background": "light"
     },
     "output_type": "display_data"
    },
    {
     "name": "stdout",
     "output_type": "stream",
     "text": [
      "Gráfico Preço Médio  por produto:  P5\n"
     ]
    },
    {
     "data": {
      "image/png": "[encoded data removed]",
      "text/plain": [
       "<Figure size 720x576 with 1 Axes>"
      ]
     },
     "metadata": {
      "needs_background": "light"
     },
     "output_type": "display_data"
    },
    {
     "name": "stdout",
     "output_type": "stream",
     "text": [
      "Gráfico Preço Médio  por produto:  P6\n"
     ]
    },
    {
     "data": {
      "image/png": "[encoded data removed]",
      "text/plain": [
       "<Figure size 720x576 with 1 Axes>"
      ]
     },
     "metadata": {
      "needs_background": "light"
     },
     "output_type": "display_data"
    },
    {
     "name": "stdout",
     "output_type": "stream",
     "text": [
      "Gráfico Preço Médio  por produto:  P7\n"
     ]
    },
    {
     "data": {
      "image/png": "[encoded data removed]",
      "text/plain": [
       "<Figure size 720x576 with 1 Axes>"
      ]
     },
     "metadata": {
      "needs_background": "light"
     },
     "output_type": "display_data"
    },
    {
     "name": "stdout",
     "output_type": "stream",
     "text": [
      "Gráfico Preço Médio  por produto:  P8\n"
     ]
    },
    {
     "data": {
      "image/png": "[encoded data removed]",
      "text/plain": [
       "<Figure size 720x576 with 1 Axes>"
      ]
     },
     "metadata": {
      "needs_background": "light"
     },
     "output_type": "display_data"
    },
    {
     "name": "stdout",
     "output_type": "stream",
     "text": [
      "Gráfico Preço Médio  por produto:  P9\n"
     ]
    },
    {
     "data": {
      "image/png": "[encoded data removed]",
      "text/plain": [
       "<Figure size 720x576 with 1 Axes>"
      ]
     },
     "metadata": {
      "needs_background": "light"
     },
     "output_type": "display_data"
    }
   ],
   "source": [
    "for i in (column_ID):\n",
    "    print('Gráfico Preço Médio  por produto: ', i)\n",
    "    ax = (sns.barplot(x=\"COMPETITOR\",\n",
    "            y=\"PRICE_AVG\",\n",
    "            data=df_avg_price_competitor.loc[df_avg_price_competitor['PROD_ID'] == i],\n",
    "            order = df_avg_price_competitor['COMPETITOR'].value_counts().index[::-1]))\n",
    "\n",
    "    for p in ax.patches:\n",
    "        height = p.get_height()\n",
    "        if height > 0:\n",
    "            ax.text(p.get_x(), height+ 3, 'n=%.0f'%(height))\n",
    "    plt.show()"
   ]
  },
  {
   "cell_type": "markdown",
   "id": "d5ec5280",
   "metadata": {},
   "source": [
    "\n",
    "### Concorrentes com os melhores preços médio\n"
   ]
  },
  {
   "cell_type": "code",
   "execution_count": 27,
   "id": "e885c343",
   "metadata": {},
   "outputs": [
    {
     "data": {
      "image/png": "[encoded data removed]",
      "text/plain": [
       "<Figure size 720x576 with 1 Axes>"
      ]
     },
     "metadata": {
      "needs_background": "light"
     },
     "output_type": "display_data"
    }
   ],
   "source": [
    "ax = (sns.countplot(x = 'COMPETITOR',\n",
    "                  data=df_avg_price_competitor.loc[df_avg_price_competitor['BEST_PRICE'] == 1],\n",
    "                  order = df['COMPETITOR'].value_counts().index[::-1]))\n",
    "for p in ax.patches:\n",
    "        height = p.get_height()\n",
    "        if height > 0:\n",
    "            ax.text(p.get_x(), height, 'n=%.0f'%(height))\n",
    "plt.show()"
   ]
  },
  {
   "cell_type": "markdown",
   "id": "7b3c7ff6",
   "metadata": {},
   "source": [
    "- C3 tem 4 melhores preços\n",
    "- C4 tem 2 melhores preços\n",
    "- C2 tem 2 melhores preços\n"
   ]
  },
  {
   "cell_type": "markdown",
   "id": "b9e874d3",
   "metadata": {},
   "source": [
    "### Concorrentes com os piortes preços médio\n"
   ]
  },
  {
   "cell_type": "code",
   "execution_count": 28,
   "id": "89090c4f",
   "metadata": {},
   "outputs": [
    {
     "data": {
      "image/png": "[encoded data removed]",
      "text/plain": [
       "<Figure size 720x576 with 1 Axes>"
      ]
     },
     "metadata": {
      "needs_background": "light"
     },
     "output_type": "display_data"
    }
   ],
   "source": [
    "ax = (sns.countplot(x = 'COMPETITOR',\n",
    "                  data=df_avg_price_competitor.loc[df_avg_price_competitor['WORST_PRICE'] == 1],\n",
    "                  order = df_avg_price_competitor['COMPETITOR'].value_counts().index[::-1]))\n",
    "for p in ax.patches:\n",
    "        height = p.get_height()\n",
    "        if height > 0:\n",
    "            ax.text(p.get_x(), height, 'n=%.0f'%(height))"
   ]
  },
  {
   "cell_type": "markdown",
   "id": "40f5a2c5",
   "metadata": {},
   "source": [
    "**Concorrentes com os piortes preços médio** \n",
    "- C5 tem 4 piores preços\n",
    "- C6 tem 3 piores preços\n",
    "- C2 tem 1 piores preços\n",
    "- C1 tem 1 piores preços"
   ]
  },
  {
   "cell_type": "code",
   "execution_count": null,
   "id": "20e02e75",
   "metadata": {},
   "outputs": [],
   "source": []
  }
 ],
 "metadata": {
  "kernelspec": {
   "display_name": "Python 3",
   "language": "python",
   "name": "python3"
  },
  "language_info": {
   "codemirror_mode": {
    "name": "ipython",
    "version": 3
   },
   "file_extension": ".py",
   "mimetype": "text/x-python",
   "name": "python",
   "nbconvert_exporter": "python",
   "pygments_lexer": "ipython3",
   "version": "3.8.8"
  },
  "toc": {
   "base_numbering": 1,
   "nav_menu": {},
   "number_sections": true,
   "sideBar": true,
   "skip_h1_title": false,
   "title_cell": "Table of Contents",
   "title_sidebar": "Contents",
   "toc_cell": false,
   "toc_position": {},
   "toc_section_display": true,
   "toc_window_display": false
  },
  "varInspector": {
   "cols": {
    "lenName": 16,
    "lenType": 16,
    "lenVar": 40
   },
   "kernels_config": {
    "python": {
     "delete_cmd_postfix": "",
     "delete_cmd_prefix": "del ",
     "library": "var_list.py",
     "varRefreshCmd": "print(var_dic_list())"
    },
    "r": {
     "delete_cmd_postfix": ") ",
     "delete_cmd_prefix": "rm(",
     "library": "var_list.r",
     "varRefreshCmd": "cat(var_dic_list()) "
    }
   },
   "types_to_exclude": [
    "module",
    "function",
    "builtin_function_or_method",
    "instance",
    "_Feature"
   ],
   "window_display": false
  }
 },
 "nbformat": 4,
 "nbformat_minor": 5
}
