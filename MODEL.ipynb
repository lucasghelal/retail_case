{
 "cells": [
  {
   "cell_type": "markdown",
   "id": "619802d1",
   "metadata": {},
   "source": [
    "# Carregando o dataframe"
   ]
  },
  {
   "cell_type": "code",
   "execution_count": 2,
   "id": "2167c29b",
   "metadata": {},
   "outputs": [],
   "source": [
    "import os\n",
    "import pandas as pd\n",
    "\n",
    "from sklearn import preprocessing\n",
    "from sklearn.model_selection import train_test_split\n",
    "\n",
    "# from sklearn.svm import SVR\n",
    "# from sklearn import svm\n",
    "\n",
    "from sklearn import metrics\n",
    "from sklearn.metrics import mean_squared_error\n",
    "from sklearn import neighbors\n",
    "from math import sqrt\n",
    "\n"
   ]
  },
  {
   "cell_type": "code",
   "execution_count": 3,
   "id": "5243cfc9",
   "metadata": {},
   "outputs": [
    {
     "name": "stdout",
     "output_type": "stream",
     "text": [
      "/Users/lucashelal/Workspace/retail_case/input/comp_prices.csv\n",
      "/Users/lucashelal/Workspace/retail_case/input/sales.csv\n"
     ]
    }
   ],
   "source": [
    "base_folder = os.getcwd()\n",
    "for dirname, _, filenames in os.walk(os.path.join(base_folder, 'input')):\n",
    "    for filename in filenames:\n",
    "        print(os.path.join(dirname, filename))"
   ]
  },
  {
   "cell_type": "code",
   "execution_count": 4,
   "id": "3bcdd7b7",
   "metadata": {},
   "outputs": [],
   "source": [
    "df_comp_price = pd.read_csv(os.path.join(base_folder,'input/comp_prices.csv'))\n"
   ]
  },
  {
   "cell_type": "markdown",
   "id": "db890ecd",
   "metadata": {},
   "source": [
    "## Contéudo do Dataframe\n"
   ]
  },
  {
   "cell_type": "markdown",
   "id": "68b8d783",
   "metadata": {},
   "source": [
    "comp_prices.csv\n",
    "\n",
    "> PROD_ID:  ID do produto. Contém 9 diferentes produtos (P1 - P9).\n",
    "\n",
    "> DATE_EXTRACTION: Data e Hora da extração dos dados dos concorrentes. Formato: YYYY-MM-DD HH:MM:SS\n",
    "\n",
    "> COMPETITOR: ID dos concorrentes. Contém6 diferentes produtos (C1 - C6).\n",
    "\n",
    "> COMPETITOR_PRICE: Preços dos Concorrentes por produto, no qual pode depender do meio de pagamento (PAY_TYPE).\n",
    "\n",
    "> PAY_TYPE:  Meio de Pagamento (1- Pagamento diferido, 2- Pagamento imediato)"
   ]
  },
  {
   "cell_type": "code",
   "execution_count": 5,
   "id": "255074ff",
   "metadata": {},
   "outputs": [
    {
     "data": {
      "text/html": [
       "<div>\n",
       "<style scoped>\n",
       "    .dataframe tbody tr th:only-of-type {\n",
       "        vertical-align: middle;\n",
       "    }\n",
       "\n",
       "    .dataframe tbody tr th {\n",
       "        vertical-align: top;\n",
       "    }\n",
       "\n",
       "    .dataframe thead th {\n",
       "        text-align: right;\n",
       "    }\n",
       "</style>\n",
       "<table border=\"1\" class=\"dataframe\">\n",
       "  <thead>\n",
       "    <tr style=\"text-align: right;\">\n",
       "      <th></th>\n",
       "      <th>PROD_ID</th>\n",
       "      <th>DATE_EXTRACTION</th>\n",
       "      <th>COMPETITOR</th>\n",
       "      <th>COMPETITOR_PRICE</th>\n",
       "      <th>PAY_TYPE</th>\n",
       "    </tr>\n",
       "  </thead>\n",
       "  <tbody>\n",
       "    <tr>\n",
       "      <th>0</th>\n",
       "      <td>P6</td>\n",
       "      <td>2015-01-30 08:11:38</td>\n",
       "      <td>C3</td>\n",
       "      <td>1898.00</td>\n",
       "      <td>1</td>\n",
       "    </tr>\n",
       "    <tr>\n",
       "      <th>1</th>\n",
       "      <td>P6</td>\n",
       "      <td>2015-01-30 08:11:38</td>\n",
       "      <td>C1</td>\n",
       "      <td>1898.00</td>\n",
       "      <td>1</td>\n",
       "    </tr>\n",
       "    <tr>\n",
       "      <th>2</th>\n",
       "      <td>P6</td>\n",
       "      <td>2015-01-30 08:11:38</td>\n",
       "      <td>C6</td>\n",
       "      <td>1999.90</td>\n",
       "      <td>1</td>\n",
       "    </tr>\n",
       "    <tr>\n",
       "      <th>3</th>\n",
       "      <td>P6</td>\n",
       "      <td>2015-01-31 20:10:14</td>\n",
       "      <td>C2</td>\n",
       "      <td>1894.88</td>\n",
       "      <td>2</td>\n",
       "    </tr>\n",
       "    <tr>\n",
       "      <th>4</th>\n",
       "      <td>P6</td>\n",
       "      <td>2015-01-31 20:10:14</td>\n",
       "      <td>C3</td>\n",
       "      <td>1894.88</td>\n",
       "      <td>2</td>\n",
       "    </tr>\n",
       "  </tbody>\n",
       "</table>\n",
       "</div>"
      ],
      "text/plain": [
       "  PROD_ID      DATE_EXTRACTION COMPETITOR  COMPETITOR_PRICE  PAY_TYPE\n",
       "0      P6  2015-01-30 08:11:38         C3           1898.00         1\n",
       "1      P6  2015-01-30 08:11:38         C1           1898.00         1\n",
       "2      P6  2015-01-30 08:11:38         C6           1999.90         1\n",
       "3      P6  2015-01-31 20:10:14         C2           1894.88         2\n",
       "4      P6  2015-01-31 20:10:14         C3           1894.88         2"
      ]
     },
     "execution_count": 5,
     "metadata": {},
     "output_type": "execute_result"
    }
   ],
   "source": [
    "df_comp_price.head()"
   ]
  },
  {
   "cell_type": "markdown",
   "id": "3afa5bac",
   "metadata": {},
   "source": [
    "# Preparando dataframe para o modelo"
   ]
  },
  {
   "cell_type": "markdown",
   "id": "2dfb5369",
   "metadata": {},
   "source": [
    "## Remover possíveis outliers por produto"
   ]
  },
  {
   "cell_type": "code",
   "execution_count": 8,
   "id": "3dfeab3c",
   "metadata": {},
   "outputs": [],
   "source": [
    "def remove_outliers_sales(df, col_id, col_outlier):\n",
    "    column_ID = df[col_id].unique()\n",
    "    for i in (column_ID):\n",
    "        df_loc_col = df.loc[df[col_id] == i][col_outlier]\n",
    "        Q1 = df_loc_col.quantile(0.05)\n",
    "        Q3 = df_loc_col.quantile(0.95)\n",
    "        IQR = Q3 - Q1\n",
    "        \n",
    "        _filter = (df_loc_col >= Q1 - 1.5*IQR) & (df_loc_col <= Q3 + 1.5*IQR)\n",
    "\n",
    "        df.loc[df[col_id] == i, [col_outlier]] = df_loc_col.loc[_filter]"
   ]
  },
  {
   "cell_type": "code",
   "execution_count": 9,
   "id": "c10bd889",
   "metadata": {},
   "outputs": [],
   "source": [
    "df = df_comp_price.copy()\n",
    "remove_outliers_sales(df, col_id = 'PROD_ID', col_outlier = 'COMPETITOR_PRICE')"
   ]
  },
  {
   "cell_type": "markdown",
   "id": "b22388ef",
   "metadata": {},
   "source": [
    "### Removendo do dataframe as colunas que ficaram com null"
   ]
  },
  {
   "cell_type": "code",
   "execution_count": 10,
   "id": "946f6eaa",
   "metadata": {},
   "outputs": [],
   "source": [
    "df = df.dropna()\n",
    "df = df.reset_index(drop=True)"
   ]
  },
  {
   "cell_type": "code",
   "execution_count": 11,
   "id": "9fdb9b26",
   "metadata": {},
   "outputs": [
    {
     "name": "stdout",
     "output_type": "stream",
     "text": [
      "Foram removidos 82 outliers\n"
     ]
    }
   ],
   "source": [
    "outliers = df_comp_price['COMPETITOR_PRICE'].count() - df['COMPETITOR_PRICE'].count()\n",
    "print('Foram removidos {} outliers'.format(outliers))"
   ]
  },
  {
   "cell_type": "markdown",
   "id": "0cbd1d98",
   "metadata": {},
   "source": [
    "### Adicionando colunas mês e dia e hora (MONTH / DAY / HOUR)"
   ]
  },
  {
   "cell_type": "markdown",
   "id": "43cff589",
   "metadata": {},
   "source": [
    "- A intenção aqui é melhorar e aumentar nossos dados com o que já temos."
   ]
  },
  {
   "cell_type": "code",
   "execution_count": 14,
   "id": "fca7a055",
   "metadata": {
    "scrolled": true
   },
   "outputs": [
    {
     "data": {
      "text/html": [
       "<div>\n",
       "<style scoped>\n",
       "    .dataframe tbody tr th:only-of-type {\n",
       "        vertical-align: middle;\n",
       "    }\n",
       "\n",
       "    .dataframe tbody tr th {\n",
       "        vertical-align: top;\n",
       "    }\n",
       "\n",
       "    .dataframe thead th {\n",
       "        text-align: right;\n",
       "    }\n",
       "</style>\n",
       "<table border=\"1\" class=\"dataframe\">\n",
       "  <thead>\n",
       "    <tr style=\"text-align: right;\">\n",
       "      <th></th>\n",
       "      <th>PROD_ID</th>\n",
       "      <th>DATE_EXTRACTION</th>\n",
       "      <th>COMPETITOR</th>\n",
       "      <th>COMPETITOR_PRICE</th>\n",
       "      <th>PAY_TYPE</th>\n",
       "      <th>MONTH</th>\n",
       "      <th>DAY</th>\n",
       "      <th>HOUR</th>\n",
       "    </tr>\n",
       "  </thead>\n",
       "  <tbody>\n",
       "    <tr>\n",
       "      <th>0</th>\n",
       "      <td>P6</td>\n",
       "      <td>2015-01-30 08:11:38</td>\n",
       "      <td>C3</td>\n",
       "      <td>1898.00</td>\n",
       "      <td>1</td>\n",
       "      <td>1</td>\n",
       "      <td>4</td>\n",
       "      <td>8</td>\n",
       "    </tr>\n",
       "    <tr>\n",
       "      <th>1</th>\n",
       "      <td>P6</td>\n",
       "      <td>2015-01-30 08:11:38</td>\n",
       "      <td>C1</td>\n",
       "      <td>1898.00</td>\n",
       "      <td>1</td>\n",
       "      <td>1</td>\n",
       "      <td>4</td>\n",
       "      <td>8</td>\n",
       "    </tr>\n",
       "    <tr>\n",
       "      <th>2</th>\n",
       "      <td>P6</td>\n",
       "      <td>2015-01-30 08:11:38</td>\n",
       "      <td>C6</td>\n",
       "      <td>1999.90</td>\n",
       "      <td>1</td>\n",
       "      <td>1</td>\n",
       "      <td>4</td>\n",
       "      <td>8</td>\n",
       "    </tr>\n",
       "    <tr>\n",
       "      <th>3</th>\n",
       "      <td>P6</td>\n",
       "      <td>2015-01-31 20:10:14</td>\n",
       "      <td>C2</td>\n",
       "      <td>1894.88</td>\n",
       "      <td>2</td>\n",
       "      <td>1</td>\n",
       "      <td>5</td>\n",
       "      <td>20</td>\n",
       "    </tr>\n",
       "    <tr>\n",
       "      <th>4</th>\n",
       "      <td>P6</td>\n",
       "      <td>2015-01-31 20:10:14</td>\n",
       "      <td>C3</td>\n",
       "      <td>1894.88</td>\n",
       "      <td>2</td>\n",
       "      <td>1</td>\n",
       "      <td>5</td>\n",
       "      <td>20</td>\n",
       "    </tr>\n",
       "  </tbody>\n",
       "</table>\n",
       "</div>"
      ],
      "text/plain": [
       "  PROD_ID     DATE_EXTRACTION COMPETITOR  COMPETITOR_PRICE  PAY_TYPE  MONTH  \\\n",
       "0      P6 2015-01-30 08:11:38         C3           1898.00         1      1   \n",
       "1      P6 2015-01-30 08:11:38         C1           1898.00         1      1   \n",
       "2      P6 2015-01-30 08:11:38         C6           1999.90         1      1   \n",
       "3      P6 2015-01-31 20:10:14         C2           1894.88         2      1   \n",
       "4      P6 2015-01-31 20:10:14         C3           1894.88         2      1   \n",
       "\n",
       "   DAY  HOUR  \n",
       "0    4     8  \n",
       "1    4     8  \n",
       "2    4     8  \n",
       "3    5    20  \n",
       "4    5    20  "
      ]
     },
     "execution_count": 14,
     "metadata": {},
     "output_type": "execute_result"
    }
   ],
   "source": [
    "df['DATE_EXTRACTION'] =  pd.to_datetime(df['DATE_EXTRACTION'], format='%Y-%m-%d %H:%M:%S')\n",
    "df['MONTH'] = df['DATE_EXTRACTION'].dt.month\n",
    "df['DAY'] = df['DATE_EXTRACTION'].dt.weekday\n",
    "df['HOUR'] = df['DATE_EXTRACTION'].dt.hour\n",
    "df.head()"
   ]
  },
  {
   "cell_type": "markdown",
   "id": "8e752144",
   "metadata": {},
   "source": [
    "### NORMALIZAR"
   ]
  },
  {
   "cell_type": "markdown",
   "id": "a13d9eaa",
   "metadata": {},
   "source": [
    "- Quando falamos em normalizar os dados, no nosso caso deixar entre 0-1 é para que facilite para a máquina \"entender\" sobre os valores. Nesse cenário normalizando \"todas\" as colunas ficar mais \"fácil\" para a máquina aprender o padrão.\n",
    "\n",
    "- Porém aqui resolvi apenas normalizar o preço de cada concorrente, somente para vizualizarmos esse cenário."
   ]
  },
  {
   "cell_type": "code",
   "execution_count": 16,
   "id": "a768ad3b",
   "metadata": {},
   "outputs": [],
   "source": [
    "def normalize_col(df, col_name):\n",
    "    \n",
    "    norm = df[[col_name]].values.astype(float)\n",
    "    min_max_scaler = preprocessing.MinMaxScaler()\n",
    "    \n",
    "    x_scaled = min_max_scaler.fit_transform(norm)\n",
    "    new_col_name = col_name + '_NORMALIZED'\n",
    "    \n",
    "    df_normalized = pd.DataFrame(x_scaled)\n",
    "    df[[new_col_name]] = df_normalized\n"
   ]
  },
  {
   "cell_type": "code",
   "execution_count": 17,
   "id": "9cfb3fd6",
   "metadata": {},
   "outputs": [],
   "source": [
    "normalize_col(df, 'COMPETITOR_PRICE')"
   ]
  },
  {
   "cell_type": "code",
   "execution_count": 20,
   "id": "efefb94a",
   "metadata": {},
   "outputs": [
    {
     "data": {
      "text/html": [
       "<div>\n",
       "<style scoped>\n",
       "    .dataframe tbody tr th:only-of-type {\n",
       "        vertical-align: middle;\n",
       "    }\n",
       "\n",
       "    .dataframe tbody tr th {\n",
       "        vertical-align: top;\n",
       "    }\n",
       "\n",
       "    .dataframe thead th {\n",
       "        text-align: right;\n",
       "    }\n",
       "</style>\n",
       "<table border=\"1\" class=\"dataframe\">\n",
       "  <thead>\n",
       "    <tr style=\"text-align: right;\">\n",
       "      <th></th>\n",
       "      <th>PROD_ID</th>\n",
       "      <th>DATE_EXTRACTION</th>\n",
       "      <th>COMPETITOR</th>\n",
       "      <th>COMPETITOR_PRICE</th>\n",
       "      <th>PAY_TYPE</th>\n",
       "      <th>MONTH</th>\n",
       "      <th>DAY</th>\n",
       "      <th>HOUR</th>\n",
       "      <th>COMPETITOR_PRICE_NORMALIZED</th>\n",
       "    </tr>\n",
       "  </thead>\n",
       "  <tbody>\n",
       "    <tr>\n",
       "      <th>0</th>\n",
       "      <td>P6</td>\n",
       "      <td>2015-01-30 08:11:38</td>\n",
       "      <td>C3</td>\n",
       "      <td>1898.00</td>\n",
       "      <td>1</td>\n",
       "      <td>1</td>\n",
       "      <td>4</td>\n",
       "      <td>8</td>\n",
       "      <td>0.630490</td>\n",
       "    </tr>\n",
       "    <tr>\n",
       "      <th>1</th>\n",
       "      <td>P6</td>\n",
       "      <td>2015-01-30 08:11:38</td>\n",
       "      <td>C1</td>\n",
       "      <td>1898.00</td>\n",
       "      <td>1</td>\n",
       "      <td>1</td>\n",
       "      <td>4</td>\n",
       "      <td>8</td>\n",
       "      <td>0.630490</td>\n",
       "    </tr>\n",
       "    <tr>\n",
       "      <th>2</th>\n",
       "      <td>P6</td>\n",
       "      <td>2015-01-30 08:11:38</td>\n",
       "      <td>C6</td>\n",
       "      <td>1999.90</td>\n",
       "      <td>1</td>\n",
       "      <td>1</td>\n",
       "      <td>4</td>\n",
       "      <td>8</td>\n",
       "      <td>0.672239</td>\n",
       "    </tr>\n",
       "    <tr>\n",
       "      <th>3</th>\n",
       "      <td>P6</td>\n",
       "      <td>2015-01-31 20:10:14</td>\n",
       "      <td>C2</td>\n",
       "      <td>1894.88</td>\n",
       "      <td>2</td>\n",
       "      <td>1</td>\n",
       "      <td>5</td>\n",
       "      <td>20</td>\n",
       "      <td>0.629212</td>\n",
       "    </tr>\n",
       "    <tr>\n",
       "      <th>4</th>\n",
       "      <td>P6</td>\n",
       "      <td>2015-01-31 20:10:14</td>\n",
       "      <td>C3</td>\n",
       "      <td>1894.88</td>\n",
       "      <td>2</td>\n",
       "      <td>1</td>\n",
       "      <td>5</td>\n",
       "      <td>20</td>\n",
       "      <td>0.629212</td>\n",
       "    </tr>\n",
       "  </tbody>\n",
       "</table>\n",
       "</div>"
      ],
      "text/plain": [
       "  PROD_ID     DATE_EXTRACTION COMPETITOR  COMPETITOR_PRICE  PAY_TYPE  MONTH  \\\n",
       "0      P6 2015-01-30 08:11:38         C3           1898.00         1      1   \n",
       "1      P6 2015-01-30 08:11:38         C1           1898.00         1      1   \n",
       "2      P6 2015-01-30 08:11:38         C6           1999.90         1      1   \n",
       "3      P6 2015-01-31 20:10:14         C2           1894.88         2      1   \n",
       "4      P6 2015-01-31 20:10:14         C3           1894.88         2      1   \n",
       "\n",
       "   DAY  HOUR  COMPETITOR_PRICE_NORMALIZED  \n",
       "0    4     8                     0.630490  \n",
       "1    4     8                     0.630490  \n",
       "2    4     8                     0.672239  \n",
       "3    5    20                     0.629212  \n",
       "4    5    20                     0.629212  "
      ]
     },
     "execution_count": 20,
     "metadata": {},
     "output_type": "execute_result"
    }
   ],
   "source": [
    "df.head()"
   ]
  },
  {
   "cell_type": "code",
   "execution_count": 17,
   "id": "a705680b",
   "metadata": {},
   "outputs": [
    {
     "name": "stdout",
     "output_type": "stream",
     "text": [
      "<class 'pandas.core.frame.DataFrame'>\n",
      "RangeIndex: 50032 entries, 0 to 50031\n",
      "Data columns (total 9 columns):\n",
      " #   Column                       Non-Null Count  Dtype         \n",
      "---  ------                       --------------  -----         \n",
      " 0   PROD_ID                      50032 non-null  object        \n",
      " 1   DATE_EXTRACTION              50032 non-null  datetime64[ns]\n",
      " 2   COMPETITOR                   50032 non-null  object        \n",
      " 3   COMPETITOR_PRICE             50032 non-null  float64       \n",
      " 4   PAY_TYPE                     50032 non-null  int64         \n",
      " 5   MONTH                        50032 non-null  int64         \n",
      " 6   DAY                          50032 non-null  int64         \n",
      " 7   HOUR                         50032 non-null  int64         \n",
      " 8   COMPETITOR_PRICE_NORMALIZED  50032 non-null  float64       \n",
      "dtypes: datetime64[ns](1), float64(2), int64(4), object(2)\n",
      "memory usage: 3.4+ MB\n"
     ]
    }
   ],
   "source": [
    "df.info()"
   ]
  },
  {
   "cell_type": "code",
   "execution_count": null,
   "id": "3f00cf2f",
   "metadata": {},
   "outputs": [],
   "source": []
  },
  {
   "cell_type": "markdown",
   "id": "0653e331",
   "metadata": {},
   "source": [
    "### Adicionando a coluna quantidade"
   ]
  },
  {
   "cell_type": "markdown",
   "id": "816811c1",
   "metadata": {},
   "source": [
    "- A ideia aqui é, novamente, incrementar nossos dados com o que já temos.\n",
    "- Resolvi agrupar nossos dados e ver quais linhas eram iguais, no caso, podemos pensar que caso tenhamos três linhas iguais, podemos concluir que naquele momento foram feitos 3 pedidos, sendo mais específico, naquela hora.\n",
    "\n",
    "**Observação**\n",
    "\n",
    "- Já deixando como ideia para trabalhos futuros: a criação de outras colunas, como quantidade vendida no dia, semana e mês."
   ]
  },
  {
   "cell_type": "code",
   "execution_count": 22,
   "id": "c074cf2b",
   "metadata": {
    "scrolled": true
   },
   "outputs": [],
   "source": [
    "df_new = df[['PROD_ID', 'COMPETITOR', 'PAY_TYPE', 'MONTH', 'DAY', 'HOUR', 'COMPETITOR_PRICE_NORMALIZED', 'COMPETITOR_PRICE']]"
   ]
  },
  {
   "cell_type": "markdown",
   "id": "6344789b",
   "metadata": {},
   "source": [
    "#### Agrupando itens e caso sejam igual, são agrupados e será considerado uma única compra com quantidade."
   ]
  },
  {
   "cell_type": "code",
   "execution_count": 23,
   "id": "a3c03d62",
   "metadata": {},
   "outputs": [],
   "source": [
    "df_new = df_new.groupby(df_new.columns.tolist(),as_index=False).size()"
   ]
  },
  {
   "cell_type": "code",
   "execution_count": 24,
   "id": "d6675355",
   "metadata": {},
   "outputs": [],
   "source": [
    "df_new = df_new.rename(columns={\"size\": \"QUANTITY\"})"
   ]
  },
  {
   "cell_type": "code",
   "execution_count": 25,
   "id": "51da59ad",
   "metadata": {},
   "outputs": [
    {
     "data": {
      "text/html": [
       "<div>\n",
       "<style scoped>\n",
       "    .dataframe tbody tr th:only-of-type {\n",
       "        vertical-align: middle;\n",
       "    }\n",
       "\n",
       "    .dataframe tbody tr th {\n",
       "        vertical-align: top;\n",
       "    }\n",
       "\n",
       "    .dataframe thead th {\n",
       "        text-align: right;\n",
       "    }\n",
       "</style>\n",
       "<table border=\"1\" class=\"dataframe\">\n",
       "  <thead>\n",
       "    <tr style=\"text-align: right;\">\n",
       "      <th></th>\n",
       "      <th>PROD_ID</th>\n",
       "      <th>COMPETITOR</th>\n",
       "      <th>PAY_TYPE</th>\n",
       "      <th>MONTH</th>\n",
       "      <th>DAY</th>\n",
       "      <th>HOUR</th>\n",
       "      <th>COMPETITOR_PRICE_NORMALIZED</th>\n",
       "      <th>COMPETITOR_PRICE</th>\n",
       "      <th>QUANTITY</th>\n",
       "    </tr>\n",
       "  </thead>\n",
       "  <tbody>\n",
       "    <tr>\n",
       "      <th>0</th>\n",
       "      <td>P1</td>\n",
       "      <td>C1</td>\n",
       "      <td>1</td>\n",
       "      <td>3</td>\n",
       "      <td>0</td>\n",
       "      <td>20</td>\n",
       "      <td>0.467019</td>\n",
       "      <td>1499.0</td>\n",
       "      <td>1</td>\n",
       "    </tr>\n",
       "    <tr>\n",
       "      <th>1</th>\n",
       "      <td>P1</td>\n",
       "      <td>C1</td>\n",
       "      <td>1</td>\n",
       "      <td>3</td>\n",
       "      <td>1</td>\n",
       "      <td>9</td>\n",
       "      <td>0.411095</td>\n",
       "      <td>1362.5</td>\n",
       "      <td>1</td>\n",
       "    </tr>\n",
       "    <tr>\n",
       "      <th>2</th>\n",
       "      <td>P1</td>\n",
       "      <td>C1</td>\n",
       "      <td>1</td>\n",
       "      <td>3</td>\n",
       "      <td>1</td>\n",
       "      <td>20</td>\n",
       "      <td>0.467019</td>\n",
       "      <td>1499.0</td>\n",
       "      <td>1</td>\n",
       "    </tr>\n",
       "    <tr>\n",
       "      <th>3</th>\n",
       "      <td>P1</td>\n",
       "      <td>C1</td>\n",
       "      <td>1</td>\n",
       "      <td>3</td>\n",
       "      <td>2</td>\n",
       "      <td>8</td>\n",
       "      <td>0.467019</td>\n",
       "      <td>1499.0</td>\n",
       "      <td>1</td>\n",
       "    </tr>\n",
       "    <tr>\n",
       "      <th>4</th>\n",
       "      <td>P1</td>\n",
       "      <td>C1</td>\n",
       "      <td>1</td>\n",
       "      <td>3</td>\n",
       "      <td>2</td>\n",
       "      <td>20</td>\n",
       "      <td>0.411095</td>\n",
       "      <td>1362.5</td>\n",
       "      <td>1</td>\n",
       "    </tr>\n",
       "  </tbody>\n",
       "</table>\n",
       "</div>"
      ],
      "text/plain": [
       "  PROD_ID COMPETITOR  PAY_TYPE  MONTH  DAY  HOUR  COMPETITOR_PRICE_NORMALIZED  \\\n",
       "0      P1         C1         1      3    0    20                     0.467019   \n",
       "1      P1         C1         1      3    1     9                     0.411095   \n",
       "2      P1         C1         1      3    1    20                     0.467019   \n",
       "3      P1         C1         1      3    2     8                     0.467019   \n",
       "4      P1         C1         1      3    2    20                     0.411095   \n",
       "\n",
       "   COMPETITOR_PRICE  QUANTITY  \n",
       "0            1499.0         1  \n",
       "1            1362.5         1  \n",
       "2            1499.0         1  \n",
       "3            1499.0         1  \n",
       "4            1362.5         1  "
      ]
     },
     "execution_count": 25,
     "metadata": {},
     "output_type": "execute_result"
    }
   ],
   "source": [
    "df_new.head()"
   ]
  },
  {
   "cell_type": "markdown",
   "id": "47008890",
   "metadata": {},
   "source": [
    "### Dataframe para o Modelo"
   ]
  },
  {
   "cell_type": "code",
   "execution_count": 27,
   "id": "87ecb298",
   "metadata": {},
   "outputs": [],
   "source": [
    "df_model = df_new.copy()"
   ]
  },
  {
   "cell_type": "markdown",
   "id": "8c152d5e",
   "metadata": {},
   "source": [
    "#### Discretizando a coluna 'COMPETITOR'"
   ]
  },
  {
   "cell_type": "code",
   "execution_count": 28,
   "id": "06a430a7",
   "metadata": {},
   "outputs": [],
   "source": [
    "df_model = pd.get_dummies(df_model, columns=['COMPETITOR'])"
   ]
  },
  {
   "cell_type": "code",
   "execution_count": 29,
   "id": "9cbfc10b",
   "metadata": {},
   "outputs": [
    {
     "name": "stdout",
     "output_type": "stream",
     "text": [
      "<class 'pandas.core.frame.DataFrame'>\n",
      "RangeIndex: 33106 entries, 0 to 33105\n",
      "Data columns (total 14 columns):\n",
      " #   Column                       Non-Null Count  Dtype  \n",
      "---  ------                       --------------  -----  \n",
      " 0   PROD_ID                      33106 non-null  object \n",
      " 1   PAY_TYPE                     33106 non-null  int64  \n",
      " 2   MONTH                        33106 non-null  int64  \n",
      " 3   DAY                          33106 non-null  int64  \n",
      " 4   HOUR                         33106 non-null  int64  \n",
      " 5   COMPETITOR_PRICE_NORMALIZED  33106 non-null  float64\n",
      " 6   COMPETITOR_PRICE             33106 non-null  float64\n",
      " 7   QUANTITY                     33106 non-null  int64  \n",
      " 8   COMPETITOR_C1                33106 non-null  uint8  \n",
      " 9   COMPETITOR_C2                33106 non-null  uint8  \n",
      " 10  COMPETITOR_C3                33106 non-null  uint8  \n",
      " 11  COMPETITOR_C4                33106 non-null  uint8  \n",
      " 12  COMPETITOR_C5                33106 non-null  uint8  \n",
      " 13  COMPETITOR_C6                33106 non-null  uint8  \n",
      "dtypes: float64(2), int64(5), object(1), uint8(6)\n",
      "memory usage: 2.2+ MB\n"
     ]
    }
   ],
   "source": [
    "df_model.info()"
   ]
  },
  {
   "cell_type": "markdown",
   "id": "d420adf9",
   "metadata": {},
   "source": [
    "### Separando os dados em entrada (input) e alvo (target/label), respectivamente X, y."
   ]
  },
  {
   "cell_type": "code",
   "execution_count": 31,
   "id": "8851b5f7",
   "metadata": {},
   "outputs": [],
   "source": [
    "X, y = df_model[['PROD_ID', 'MONTH', 'DAY', 'HOUR', 'COMPETITOR_C1', 'COMPETITOR_C2', 'COMPETITOR_C3', 'COMPETITOR_C4', 'COMPETITOR_C5', 'COMPETITOR_C6', 'QUANTITY']], df_model['COMPETITOR_PRICE_NORMALIZED']"
   ]
  },
  {
   "cell_type": "markdown",
   "id": "a6045556",
   "metadata": {},
   "source": [
    "#### Mapeando o PROD_ID em inteiros"
   ]
  },
  {
   "cell_type": "code",
   "execution_count": 33,
   "id": "54e2ea02",
   "metadata": {},
   "outputs": [
    {
     "data": {
      "text/html": [
       "<div>\n",
       "<style scoped>\n",
       "    .dataframe tbody tr th:only-of-type {\n",
       "        vertical-align: middle;\n",
       "    }\n",
       "\n",
       "    .dataframe tbody tr th {\n",
       "        vertical-align: top;\n",
       "    }\n",
       "\n",
       "    .dataframe thead th {\n",
       "        text-align: right;\n",
       "    }\n",
       "</style>\n",
       "<table border=\"1\" class=\"dataframe\">\n",
       "  <thead>\n",
       "    <tr style=\"text-align: right;\">\n",
       "      <th></th>\n",
       "      <th>PROD_ID</th>\n",
       "      <th>MONTH</th>\n",
       "      <th>DAY</th>\n",
       "      <th>HOUR</th>\n",
       "      <th>COMPETITOR_C1</th>\n",
       "      <th>COMPETITOR_C2</th>\n",
       "      <th>COMPETITOR_C3</th>\n",
       "      <th>COMPETITOR_C4</th>\n",
       "      <th>COMPETITOR_C5</th>\n",
       "      <th>COMPETITOR_C6</th>\n",
       "      <th>QUANTITY</th>\n",
       "    </tr>\n",
       "  </thead>\n",
       "  <tbody>\n",
       "    <tr>\n",
       "      <th>0</th>\n",
       "      <td>1</td>\n",
       "      <td>3</td>\n",
       "      <td>0</td>\n",
       "      <td>20</td>\n",
       "      <td>1</td>\n",
       "      <td>0</td>\n",
       "      <td>0</td>\n",
       "      <td>0</td>\n",
       "      <td>0</td>\n",
       "      <td>0</td>\n",
       "      <td>1</td>\n",
       "    </tr>\n",
       "    <tr>\n",
       "      <th>1</th>\n",
       "      <td>1</td>\n",
       "      <td>3</td>\n",
       "      <td>1</td>\n",
       "      <td>9</td>\n",
       "      <td>1</td>\n",
       "      <td>0</td>\n",
       "      <td>0</td>\n",
       "      <td>0</td>\n",
       "      <td>0</td>\n",
       "      <td>0</td>\n",
       "      <td>1</td>\n",
       "    </tr>\n",
       "    <tr>\n",
       "      <th>2</th>\n",
       "      <td>1</td>\n",
       "      <td>3</td>\n",
       "      <td>1</td>\n",
       "      <td>20</td>\n",
       "      <td>1</td>\n",
       "      <td>0</td>\n",
       "      <td>0</td>\n",
       "      <td>0</td>\n",
       "      <td>0</td>\n",
       "      <td>0</td>\n",
       "      <td>1</td>\n",
       "    </tr>\n",
       "    <tr>\n",
       "      <th>3</th>\n",
       "      <td>1</td>\n",
       "      <td>3</td>\n",
       "      <td>2</td>\n",
       "      <td>8</td>\n",
       "      <td>1</td>\n",
       "      <td>0</td>\n",
       "      <td>0</td>\n",
       "      <td>0</td>\n",
       "      <td>0</td>\n",
       "      <td>0</td>\n",
       "      <td>1</td>\n",
       "    </tr>\n",
       "    <tr>\n",
       "      <th>4</th>\n",
       "      <td>1</td>\n",
       "      <td>3</td>\n",
       "      <td>2</td>\n",
       "      <td>20</td>\n",
       "      <td>1</td>\n",
       "      <td>0</td>\n",
       "      <td>0</td>\n",
       "      <td>0</td>\n",
       "      <td>0</td>\n",
       "      <td>0</td>\n",
       "      <td>1</td>\n",
       "    </tr>\n",
       "    <tr>\n",
       "      <th>...</th>\n",
       "      <td>...</td>\n",
       "      <td>...</td>\n",
       "      <td>...</td>\n",
       "      <td>...</td>\n",
       "      <td>...</td>\n",
       "      <td>...</td>\n",
       "      <td>...</td>\n",
       "      <td>...</td>\n",
       "      <td>...</td>\n",
       "      <td>...</td>\n",
       "      <td>...</td>\n",
       "    </tr>\n",
       "    <tr>\n",
       "      <th>33101</th>\n",
       "      <td>9</td>\n",
       "      <td>10</td>\n",
       "      <td>5</td>\n",
       "      <td>20</td>\n",
       "      <td>0</td>\n",
       "      <td>0</td>\n",
       "      <td>0</td>\n",
       "      <td>0</td>\n",
       "      <td>0</td>\n",
       "      <td>1</td>\n",
       "      <td>2</td>\n",
       "    </tr>\n",
       "    <tr>\n",
       "      <th>33102</th>\n",
       "      <td>9</td>\n",
       "      <td>10</td>\n",
       "      <td>5</td>\n",
       "      <td>20</td>\n",
       "      <td>0</td>\n",
       "      <td>0</td>\n",
       "      <td>0</td>\n",
       "      <td>0</td>\n",
       "      <td>0</td>\n",
       "      <td>1</td>\n",
       "      <td>2</td>\n",
       "    </tr>\n",
       "    <tr>\n",
       "      <th>33103</th>\n",
       "      <td>9</td>\n",
       "      <td>10</td>\n",
       "      <td>6</td>\n",
       "      <td>8</td>\n",
       "      <td>0</td>\n",
       "      <td>0</td>\n",
       "      <td>0</td>\n",
       "      <td>0</td>\n",
       "      <td>0</td>\n",
       "      <td>1</td>\n",
       "      <td>2</td>\n",
       "    </tr>\n",
       "    <tr>\n",
       "      <th>33104</th>\n",
       "      <td>9</td>\n",
       "      <td>10</td>\n",
       "      <td>6</td>\n",
       "      <td>20</td>\n",
       "      <td>0</td>\n",
       "      <td>0</td>\n",
       "      <td>0</td>\n",
       "      <td>0</td>\n",
       "      <td>0</td>\n",
       "      <td>1</td>\n",
       "      <td>2</td>\n",
       "    </tr>\n",
       "    <tr>\n",
       "      <th>33105</th>\n",
       "      <td>9</td>\n",
       "      <td>10</td>\n",
       "      <td>6</td>\n",
       "      <td>20</td>\n",
       "      <td>0</td>\n",
       "      <td>0</td>\n",
       "      <td>0</td>\n",
       "      <td>0</td>\n",
       "      <td>0</td>\n",
       "      <td>1</td>\n",
       "      <td>2</td>\n",
       "    </tr>\n",
       "  </tbody>\n",
       "</table>\n",
       "<p>33106 rows × 11 columns</p>\n",
       "</div>"
      ],
      "text/plain": [
       "       PROD_ID  MONTH  DAY  HOUR  COMPETITOR_C1  COMPETITOR_C2  COMPETITOR_C3  \\\n",
       "0            1      3    0    20              1              0              0   \n",
       "1            1      3    1     9              1              0              0   \n",
       "2            1      3    1    20              1              0              0   \n",
       "3            1      3    2     8              1              0              0   \n",
       "4            1      3    2    20              1              0              0   \n",
       "...        ...    ...  ...   ...            ...            ...            ...   \n",
       "33101        9     10    5    20              0              0              0   \n",
       "33102        9     10    5    20              0              0              0   \n",
       "33103        9     10    6     8              0              0              0   \n",
       "33104        9     10    6    20              0              0              0   \n",
       "33105        9     10    6    20              0              0              0   \n",
       "\n",
       "       COMPETITOR_C4  COMPETITOR_C5  COMPETITOR_C6  QUANTITY  \n",
       "0                  0              0              0         1  \n",
       "1                  0              0              0         1  \n",
       "2                  0              0              0         1  \n",
       "3                  0              0              0         1  \n",
       "4                  0              0              0         1  \n",
       "...              ...            ...            ...       ...  \n",
       "33101              0              0              1         2  \n",
       "33102              0              0              1         2  \n",
       "33103              0              0              1         2  \n",
       "33104              0              0              1         2  \n",
       "33105              0              0              1         2  \n",
       "\n",
       "[33106 rows x 11 columns]"
      ]
     },
     "execution_count": 33,
     "metadata": {},
     "output_type": "execute_result"
    }
   ],
   "source": [
    "PROD_ID = {'P1': 1, 'P2': 2, 'P3': 3, 'P4': 4, 'P5': 5, 'P6': 6, 'P7': 7, 'P8': 8, 'P9': 9} \n",
    "X = X.replace(PROD_ID)\n",
    "X"
   ]
  },
  {
   "cell_type": "markdown",
   "id": "c052cdc9",
   "metadata": {},
   "source": [
    "### Dividindo os dados em Treino (80%) em Teste (20%)"
   ]
  },
  {
   "cell_type": "code",
   "execution_count": 34,
   "id": "28b44429",
   "metadata": {},
   "outputs": [],
   "source": [
    "X_train, X_test, y_train, y_test = train_test_split(X, y, test_size=0.20, random_state=42)"
   ]
  },
  {
   "cell_type": "markdown",
   "id": "76b09404",
   "metadata": {},
   "source": [
    "Aqui poderiamos testar diversos algoritmos/modelos, inicialmente testei com o SVM e com os seus diversos kernels, mas estava demorando para rodar na minha máquina, resolvi  utilizar o KNN com as configurações Default que se teve bons resultados.\n",
    "\n",
    "Como gosto de dizer:  \"a imaginação é o limite, rs..\""
   ]
  },
  {
   "cell_type": "markdown",
   "id": "5a313589",
   "metadata": {},
   "source": [
    "# Aprendizagem"
   ]
  },
  {
   "cell_type": "markdown",
   "id": "ad2e8742",
   "metadata": {},
   "source": [
    "## Treino e Teste - KNN"
   ]
  },
  {
   "cell_type": "code",
   "execution_count": 35,
   "id": "a469c6bd",
   "metadata": {},
   "outputs": [
    {
     "name": "stdout",
     "output_type": "stream",
     "text": [
      "RMSE: 0.06155424613100982\n"
     ]
    }
   ],
   "source": [
    "Knn = neighbors.KNeighborsRegressor()\n",
    "Knn.fit(X_train, y_train)  \n",
    "error = sqrt(metrics.mean_squared_error( y_test, Knn.predict(X_test))) \n",
    "print('RMSE:', error)"
   ]
  },
  {
   "cell_type": "code",
   "execution_count": 36,
   "id": "3df7cf9a",
   "metadata": {},
   "outputs": [
    {
     "data": {
      "text/plain": [
       "0.9421724049967611"
      ]
     },
     "execution_count": 36,
     "metadata": {},
     "output_type": "execute_result"
    }
   ],
   "source": [
    "Knn.score(X_train, y_train) \n"
   ]
  },
  {
   "cell_type": "markdown",
   "id": "56ff4d56",
   "metadata": {},
   "source": [
    "94,21% de acc"
   ]
  },
  {
   "cell_type": "code",
   "execution_count": 37,
   "id": "ebc3a8b8",
   "metadata": {},
   "outputs": [],
   "source": [
    "# Caso queira prever alguns resultados, dado determinada de entrada\n",
    "\n",
    "# result = Knn.predict(X_test)\n",
    "# print(result)"
   ]
  },
  {
   "cell_type": "code",
   "execution_count": null,
   "id": "bc133852",
   "metadata": {},
   "outputs": [],
   "source": []
  },
  {
   "cell_type": "markdown",
   "id": "d7523678",
   "metadata": {},
   "source": [
    "## Modelo II: Discretizando também o 'PROD_ID'"
   ]
  },
  {
   "cell_type": "code",
   "execution_count": 39,
   "id": "6eb7f9b2",
   "metadata": {},
   "outputs": [],
   "source": [
    "df_model_two = pd.get_dummies(df_model)"
   ]
  },
  {
   "cell_type": "code",
   "execution_count": 41,
   "id": "21933b1a",
   "metadata": {},
   "outputs": [],
   "source": [
    "# df_model_two"
   ]
  },
  {
   "cell_type": "code",
   "execution_count": 42,
   "id": "84797678",
   "metadata": {},
   "outputs": [],
   "source": [
    "X, y = df_model_two[['PROD_ID_P1', 'PROD_ID_P2', 'PROD_ID_P3', 'PROD_ID_P4', 'PROD_ID_P5', 'PROD_ID_P6', 'PROD_ID_P7', 'PROD_ID_P8', 'PROD_ID_P9',  'MONTH', 'DAY', 'HOUR', 'COMPETITOR_C1', 'COMPETITOR_C2', 'COMPETITOR_C3', 'COMPETITOR_C4', 'COMPETITOR_C5', 'COMPETITOR_C6', 'QUANTITY']], df_model['COMPETITOR_PRICE_NORMALIZED']"
   ]
  },
  {
   "cell_type": "code",
   "execution_count": 43,
   "id": "3490084d",
   "metadata": {},
   "outputs": [
    {
     "data": {
      "text/html": [
       "<div>\n",
       "<style scoped>\n",
       "    .dataframe tbody tr th:only-of-type {\n",
       "        vertical-align: middle;\n",
       "    }\n",
       "\n",
       "    .dataframe tbody tr th {\n",
       "        vertical-align: top;\n",
       "    }\n",
       "\n",
       "    .dataframe thead th {\n",
       "        text-align: right;\n",
       "    }\n",
       "</style>\n",
       "<table border=\"1\" class=\"dataframe\">\n",
       "  <thead>\n",
       "    <tr style=\"text-align: right;\">\n",
       "      <th></th>\n",
       "      <th>PROD_ID_P1</th>\n",
       "      <th>PROD_ID_P2</th>\n",
       "      <th>PROD_ID_P3</th>\n",
       "      <th>PROD_ID_P4</th>\n",
       "      <th>PROD_ID_P5</th>\n",
       "      <th>PROD_ID_P6</th>\n",
       "      <th>PROD_ID_P7</th>\n",
       "      <th>PROD_ID_P8</th>\n",
       "      <th>PROD_ID_P9</th>\n",
       "      <th>MONTH</th>\n",
       "      <th>DAY</th>\n",
       "      <th>HOUR</th>\n",
       "      <th>COMPETITOR_C1</th>\n",
       "      <th>COMPETITOR_C2</th>\n",
       "      <th>COMPETITOR_C3</th>\n",
       "      <th>COMPETITOR_C4</th>\n",
       "      <th>COMPETITOR_C5</th>\n",
       "      <th>COMPETITOR_C6</th>\n",
       "      <th>QUANTITY</th>\n",
       "    </tr>\n",
       "  </thead>\n",
       "  <tbody>\n",
       "    <tr>\n",
       "      <th>0</th>\n",
       "      <td>1</td>\n",
       "      <td>0</td>\n",
       "      <td>0</td>\n",
       "      <td>0</td>\n",
       "      <td>0</td>\n",
       "      <td>0</td>\n",
       "      <td>0</td>\n",
       "      <td>0</td>\n",
       "      <td>0</td>\n",
       "      <td>3</td>\n",
       "      <td>0</td>\n",
       "      <td>20</td>\n",
       "      <td>1</td>\n",
       "      <td>0</td>\n",
       "      <td>0</td>\n",
       "      <td>0</td>\n",
       "      <td>0</td>\n",
       "      <td>0</td>\n",
       "      <td>1</td>\n",
       "    </tr>\n",
       "    <tr>\n",
       "      <th>1</th>\n",
       "      <td>1</td>\n",
       "      <td>0</td>\n",
       "      <td>0</td>\n",
       "      <td>0</td>\n",
       "      <td>0</td>\n",
       "      <td>0</td>\n",
       "      <td>0</td>\n",
       "      <td>0</td>\n",
       "      <td>0</td>\n",
       "      <td>3</td>\n",
       "      <td>1</td>\n",
       "      <td>9</td>\n",
       "      <td>1</td>\n",
       "      <td>0</td>\n",
       "      <td>0</td>\n",
       "      <td>0</td>\n",
       "      <td>0</td>\n",
       "      <td>0</td>\n",
       "      <td>1</td>\n",
       "    </tr>\n",
       "    <tr>\n",
       "      <th>2</th>\n",
       "      <td>1</td>\n",
       "      <td>0</td>\n",
       "      <td>0</td>\n",
       "      <td>0</td>\n",
       "      <td>0</td>\n",
       "      <td>0</td>\n",
       "      <td>0</td>\n",
       "      <td>0</td>\n",
       "      <td>0</td>\n",
       "      <td>3</td>\n",
       "      <td>1</td>\n",
       "      <td>20</td>\n",
       "      <td>1</td>\n",
       "      <td>0</td>\n",
       "      <td>0</td>\n",
       "      <td>0</td>\n",
       "      <td>0</td>\n",
       "      <td>0</td>\n",
       "      <td>1</td>\n",
       "    </tr>\n",
       "    <tr>\n",
       "      <th>3</th>\n",
       "      <td>1</td>\n",
       "      <td>0</td>\n",
       "      <td>0</td>\n",
       "      <td>0</td>\n",
       "      <td>0</td>\n",
       "      <td>0</td>\n",
       "      <td>0</td>\n",
       "      <td>0</td>\n",
       "      <td>0</td>\n",
       "      <td>3</td>\n",
       "      <td>2</td>\n",
       "      <td>8</td>\n",
       "      <td>1</td>\n",
       "      <td>0</td>\n",
       "      <td>0</td>\n",
       "      <td>0</td>\n",
       "      <td>0</td>\n",
       "      <td>0</td>\n",
       "      <td>1</td>\n",
       "    </tr>\n",
       "    <tr>\n",
       "      <th>4</th>\n",
       "      <td>1</td>\n",
       "      <td>0</td>\n",
       "      <td>0</td>\n",
       "      <td>0</td>\n",
       "      <td>0</td>\n",
       "      <td>0</td>\n",
       "      <td>0</td>\n",
       "      <td>0</td>\n",
       "      <td>0</td>\n",
       "      <td>3</td>\n",
       "      <td>2</td>\n",
       "      <td>20</td>\n",
       "      <td>1</td>\n",
       "      <td>0</td>\n",
       "      <td>0</td>\n",
       "      <td>0</td>\n",
       "      <td>0</td>\n",
       "      <td>0</td>\n",
       "      <td>1</td>\n",
       "    </tr>\n",
       "    <tr>\n",
       "      <th>...</th>\n",
       "      <td>...</td>\n",
       "      <td>...</td>\n",
       "      <td>...</td>\n",
       "      <td>...</td>\n",
       "      <td>...</td>\n",
       "      <td>...</td>\n",
       "      <td>...</td>\n",
       "      <td>...</td>\n",
       "      <td>...</td>\n",
       "      <td>...</td>\n",
       "      <td>...</td>\n",
       "      <td>...</td>\n",
       "      <td>...</td>\n",
       "      <td>...</td>\n",
       "      <td>...</td>\n",
       "      <td>...</td>\n",
       "      <td>...</td>\n",
       "      <td>...</td>\n",
       "      <td>...</td>\n",
       "    </tr>\n",
       "    <tr>\n",
       "      <th>33101</th>\n",
       "      <td>0</td>\n",
       "      <td>0</td>\n",
       "      <td>0</td>\n",
       "      <td>0</td>\n",
       "      <td>0</td>\n",
       "      <td>0</td>\n",
       "      <td>0</td>\n",
       "      <td>0</td>\n",
       "      <td>1</td>\n",
       "      <td>10</td>\n",
       "      <td>5</td>\n",
       "      <td>20</td>\n",
       "      <td>0</td>\n",
       "      <td>0</td>\n",
       "      <td>0</td>\n",
       "      <td>0</td>\n",
       "      <td>0</td>\n",
       "      <td>1</td>\n",
       "      <td>2</td>\n",
       "    </tr>\n",
       "    <tr>\n",
       "      <th>33102</th>\n",
       "      <td>0</td>\n",
       "      <td>0</td>\n",
       "      <td>0</td>\n",
       "      <td>0</td>\n",
       "      <td>0</td>\n",
       "      <td>0</td>\n",
       "      <td>0</td>\n",
       "      <td>0</td>\n",
       "      <td>1</td>\n",
       "      <td>10</td>\n",
       "      <td>5</td>\n",
       "      <td>20</td>\n",
       "      <td>0</td>\n",
       "      <td>0</td>\n",
       "      <td>0</td>\n",
       "      <td>0</td>\n",
       "      <td>0</td>\n",
       "      <td>1</td>\n",
       "      <td>2</td>\n",
       "    </tr>\n",
       "    <tr>\n",
       "      <th>33103</th>\n",
       "      <td>0</td>\n",
       "      <td>0</td>\n",
       "      <td>0</td>\n",
       "      <td>0</td>\n",
       "      <td>0</td>\n",
       "      <td>0</td>\n",
       "      <td>0</td>\n",
       "      <td>0</td>\n",
       "      <td>1</td>\n",
       "      <td>10</td>\n",
       "      <td>6</td>\n",
       "      <td>8</td>\n",
       "      <td>0</td>\n",
       "      <td>0</td>\n",
       "      <td>0</td>\n",
       "      <td>0</td>\n",
       "      <td>0</td>\n",
       "      <td>1</td>\n",
       "      <td>2</td>\n",
       "    </tr>\n",
       "    <tr>\n",
       "      <th>33104</th>\n",
       "      <td>0</td>\n",
       "      <td>0</td>\n",
       "      <td>0</td>\n",
       "      <td>0</td>\n",
       "      <td>0</td>\n",
       "      <td>0</td>\n",
       "      <td>0</td>\n",
       "      <td>0</td>\n",
       "      <td>1</td>\n",
       "      <td>10</td>\n",
       "      <td>6</td>\n",
       "      <td>20</td>\n",
       "      <td>0</td>\n",
       "      <td>0</td>\n",
       "      <td>0</td>\n",
       "      <td>0</td>\n",
       "      <td>0</td>\n",
       "      <td>1</td>\n",
       "      <td>2</td>\n",
       "    </tr>\n",
       "    <tr>\n",
       "      <th>33105</th>\n",
       "      <td>0</td>\n",
       "      <td>0</td>\n",
       "      <td>0</td>\n",
       "      <td>0</td>\n",
       "      <td>0</td>\n",
       "      <td>0</td>\n",
       "      <td>0</td>\n",
       "      <td>0</td>\n",
       "      <td>1</td>\n",
       "      <td>10</td>\n",
       "      <td>6</td>\n",
       "      <td>20</td>\n",
       "      <td>0</td>\n",
       "      <td>0</td>\n",
       "      <td>0</td>\n",
       "      <td>0</td>\n",
       "      <td>0</td>\n",
       "      <td>1</td>\n",
       "      <td>2</td>\n",
       "    </tr>\n",
       "  </tbody>\n",
       "</table>\n",
       "<p>33106 rows × 19 columns</p>\n",
       "</div>"
      ],
      "text/plain": [
       "       PROD_ID_P1  PROD_ID_P2  PROD_ID_P3  PROD_ID_P4  PROD_ID_P5  PROD_ID_P6  \\\n",
       "0               1           0           0           0           0           0   \n",
       "1               1           0           0           0           0           0   \n",
       "2               1           0           0           0           0           0   \n",
       "3               1           0           0           0           0           0   \n",
       "4               1           0           0           0           0           0   \n",
       "...           ...         ...         ...         ...         ...         ...   \n",
       "33101           0           0           0           0           0           0   \n",
       "33102           0           0           0           0           0           0   \n",
       "33103           0           0           0           0           0           0   \n",
       "33104           0           0           0           0           0           0   \n",
       "33105           0           0           0           0           0           0   \n",
       "\n",
       "       PROD_ID_P7  PROD_ID_P8  PROD_ID_P9  MONTH  DAY  HOUR  COMPETITOR_C1  \\\n",
       "0               0           0           0      3    0    20              1   \n",
       "1               0           0           0      3    1     9              1   \n",
       "2               0           0           0      3    1    20              1   \n",
       "3               0           0           0      3    2     8              1   \n",
       "4               0           0           0      3    2    20              1   \n",
       "...           ...         ...         ...    ...  ...   ...            ...   \n",
       "33101           0           0           1     10    5    20              0   \n",
       "33102           0           0           1     10    5    20              0   \n",
       "33103           0           0           1     10    6     8              0   \n",
       "33104           0           0           1     10    6    20              0   \n",
       "33105           0           0           1     10    6    20              0   \n",
       "\n",
       "       COMPETITOR_C2  COMPETITOR_C3  COMPETITOR_C4  COMPETITOR_C5  \\\n",
       "0                  0              0              0              0   \n",
       "1                  0              0              0              0   \n",
       "2                  0              0              0              0   \n",
       "3                  0              0              0              0   \n",
       "4                  0              0              0              0   \n",
       "...              ...            ...            ...            ...   \n",
       "33101              0              0              0              0   \n",
       "33102              0              0              0              0   \n",
       "33103              0              0              0              0   \n",
       "33104              0              0              0              0   \n",
       "33105              0              0              0              0   \n",
       "\n",
       "       COMPETITOR_C6  QUANTITY  \n",
       "0                  0         1  \n",
       "1                  0         1  \n",
       "2                  0         1  \n",
       "3                  0         1  \n",
       "4                  0         1  \n",
       "...              ...       ...  \n",
       "33101              1         2  \n",
       "33102              1         2  \n",
       "33103              1         2  \n",
       "33104              1         2  \n",
       "33105              1         2  \n",
       "\n",
       "[33106 rows x 19 columns]"
      ]
     },
     "execution_count": 43,
     "metadata": {},
     "output_type": "execute_result"
    }
   ],
   "source": [
    "X"
   ]
  },
  {
   "cell_type": "code",
   "execution_count": 82,
   "id": "eaf12dd1",
   "metadata": {},
   "outputs": [],
   "source": [
    "X_train, X_test, y_train, y_test = train_test_split(X, y, test_size=0.20, random_state=42)"
   ]
  },
  {
   "cell_type": "code",
   "execution_count": 86,
   "id": "1f0c2d24",
   "metadata": {},
   "outputs": [
    {
     "name": "stdout",
     "output_type": "stream",
     "text": [
      "RMSE: 0.04168975667188638\n"
     ]
    }
   ],
   "source": [
    "Knn = neighbors.KNeighborsRegressor()\n",
    "Knn.fit(X_train, y_train)  \n",
    "error = sqrt(metrics.mean_squared_error( y_test, Knn.predict(X_test))) \n",
    "print('RMSE:', error)"
   ]
  },
  {
   "cell_type": "code",
   "execution_count": 84,
   "id": "8dbd5b78",
   "metadata": {},
   "outputs": [
    {
     "data": {
      "text/plain": [
       "0.9719549579704859"
      ]
     },
     "execution_count": 84,
     "metadata": {},
     "output_type": "execute_result"
    }
   ],
   "source": [
    "Knn.score(X_train, y_train)  # R2 of the KNN model\n"
   ]
  },
  {
   "cell_type": "markdown",
   "id": "7552b2cb",
   "metadata": {},
   "source": [
    "97,20% de acc\n",
    "\n",
    "Se teve um ganho de 3% com a discretização das variável PROD_ID"
   ]
  },
  {
   "cell_type": "markdown",
   "id": "9815f1a9",
   "metadata": {},
   "source": [
    "Logo, nosso modelo de previsão de preços baseado na base de dados dos correntes tem uma acertividade de 97%"
   ]
  }
 ],
 "metadata": {
  "kernelspec": {
   "display_name": "Python 3",
   "language": "python",
   "name": "python3"
  },
  "language_info": {
   "codemirror_mode": {
    "name": "ipython",
    "version": 3
   },
   "file_extension": ".py",
   "mimetype": "text/x-python",
   "name": "python",
   "nbconvert_exporter": "python",
   "pygments_lexer": "ipython3",
   "version": "3.8.8"
  },
  "toc": {
   "base_numbering": 1,
   "nav_menu": {},
   "number_sections": true,
   "sideBar": true,
   "skip_h1_title": false,
   "title_cell": "Table of Contents",
   "title_sidebar": "Contents",
   "toc_cell": false,
   "toc_position": {},
   "toc_section_display": true,
   "toc_window_display": false
  },
  "varInspector": {
   "cols": {
    "lenName": 16,
    "lenType": 16,
    "lenVar": 40
   },
   "kernels_config": {
    "python": {
     "delete_cmd_postfix": "",
     "delete_cmd_prefix": "del ",
     "library": "var_list.py",
     "varRefreshCmd": "print(var_dic_list())"
    },
    "r": {
     "delete_cmd_postfix": ") ",
     "delete_cmd_prefix": "rm(",
     "library": "var_list.r",
     "varRefreshCmd": "cat(var_dic_list()) "
    }
   },
   "types_to_exclude": [
    "module",
    "function",
    "builtin_function_or_method",
    "instance",
    "_Feature"
   ],
   "window_display": false
  }
 },
 "nbformat": 4,
 "nbformat_minor": 5
}
